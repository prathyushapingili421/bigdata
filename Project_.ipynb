{
 "cells": [
  {
   "cell_type": "markdown",
   "metadata": {
    "application/vnd.databricks.v1+cell": {
     "cellMetadata": {
      "byteLimit": 2048000,
      "rowLimit": 10000
     },
     "inputWidgets": {},
     "nuid": "a05a7c9e-91e2-47f2-8ab5-475ec039c16c",
     "showTitle": false,
     "tableResultSettingsMap": {},
     "title": ""
    }
   },
   "source": [
    "### Data Cleaning"
   ]
  },
  {
   "cell_type": "code",
   "execution_count": 0,
   "metadata": {
    "application/vnd.databricks.v1+cell": {
     "cellMetadata": {
      "byteLimit": 2048000,
      "rowLimit": 10000
     },
     "inputWidgets": {},
     "nuid": "33c2a943-0918-4306-9d4f-09ec7f0222ef",
     "showTitle": false,
     "tableResultSettingsMap": {},
     "title": ""
    }
   },
   "outputs": [],
   "source": [
    "# Define file paths as per your dictionary\n",
    "file_paths = {\n",
    "    \"postings\": \"/FileStore/tables/postings.csv\",\n",
    "    \"industries\": \"/FileStore/tables/industries.csv\",\n",
    "    \"skills\": \"/FileStore/tables/skills.csv\",\n",
    "    \"benefits\": \"/FileStore/tables/benefits.csv\",\n",
    "    \"job_industries\": \"/FileStore/tables/job_industries.csv\",\n",
    "    \"job_skills\": \"/FileStore/tables/job_skills.csv\",\n",
    "    \"salaries\": \"/FileStore/tables/salaries.csv\",\n",
    "    \"companies\": \"/FileStore/tables/companies.csv\",\n",
    "    \"company_industries\": \"/FileStore/tables/company_industries.csv\",\n",
    "    \"company_specialities\": \"/FileStore/tables/company_specialities.csv\",\n",
    "    \"employee_counts\": \"/FileStore/tables/employee_counts.csv\"\n",
    "}\n",
    "\n",
    "# Load datasets into Spark DataFrames\n",
    "dataframes = {name: spark.read.option(\"header\", True).csv(path) for name, path in file_paths.items()}\n",
    "\n",
    "# Access each DataFrame as needed\n",
    "postings_df = dataframes[\"postings\"]\n",
    "industries_df = dataframes[\"industries\"]\n",
    "skills_df = dataframes[\"skills\"]\n",
    "benefits_df = dataframes[\"benefits\"]\n",
    "job_industries_df = dataframes[\"job_industries\"]\n",
    "job_skills_df = dataframes[\"job_skills\"]\n",
    "salaries_df = dataframes[\"salaries\"]\n",
    "companies_df = dataframes[\"companies\"]\n",
    "company_industries_df = dataframes[\"company_industries\"]\n",
    "company_specialities_df = dataframes[\"company_specialities\"]\n",
    "employee_counts_df = dataframes[\"employee_counts\"]\n"
   ]
  },
  {
   "cell_type": "code",
   "execution_count": 0,
   "metadata": {
    "application/vnd.databricks.v1+cell": {
     "cellMetadata": {
      "byteLimit": 2048000,
      "rowLimit": 10000
     },
     "inputWidgets": {},
     "nuid": "4aadb82a-6fd0-4865-a486-19f0f037c5d5",
     "showTitle": false,
     "tableResultSettingsMap": {},
     "title": ""
    }
   },
   "outputs": [],
   "source": [
    "from pyspark.sql.functions import col, when\n",
    "\n",
    "# Drop duplicates\n",
    "postings_df = postings_df.dropDuplicates()\n",
    "\n",
    "# Fill missing values\n",
    "postings_df = postings_df.fillna({\"min_salary\": 0, \"max_salary\": 0, \"med_salary\": 0, \"location\": \"Unknown\", \"currency\": \"USD\"})\n",
    "\n",
    "# Convert salary columns to integer\n",
    "postings_df = postings_df.withColumn(\"min_salary\", col(\"min_salary\").cast(\"integer\")) \\\n",
    "                         .withColumn(\"max_salary\", col(\"max_salary\").cast(\"integer\")) \\\n",
    "                         .withColumn(\"med_salary\", col(\"med_salary\").cast(\"integer\"))\n",
    "\n",
    "# Standardize pay period\n",
    "postings_df = postings_df.withColumn(\"pay_period\", when(col(\"pay_period\") == \"HOURLY\", \"hourly\")\n",
    "                                     .when(col(\"pay_period\") == \"YEARLY\", \"yearly\")\n",
    "                                     .otherwise(col(\"pay_period\")))\n",
    "\n",
    "# Convert timestamp columns\n",
    "postings_df = postings_df.withColumn(\"listed_time\", col(\"listed_time\").cast(\"timestamp\")) \\\n",
    "                         .withColumn(\"expiry\", col(\"expiry\").cast(\"timestamp\")) \\\n",
    "                         .withColumn(\"closed_time\", col(\"closed_time\").cast(\"timestamp\"))\n"
   ]
  },
  {
   "cell_type": "code",
   "execution_count": 0,
   "metadata": {
    "application/vnd.databricks.v1+cell": {
     "cellMetadata": {
      "byteLimit": 2048000,
      "rowLimit": 10000
     },
     "inputWidgets": {},
     "nuid": "539801ce-d7cc-4c5f-9c0d-d4afe606b0f2",
     "showTitle": false,
     "tableResultSettingsMap": {},
     "title": ""
    }
   },
   "outputs": [],
   "source": [
    "# Standardize skill names\n",
    "skills_df = skills_df.dropDuplicates().fillna({\"skill_name\": \"Unknown\"})\n",
    "\n",
    "# Standardize industry names\n",
    "industries_df = industries_df.dropDuplicates().fillna({\"industry_name\": \"Unknown\"})\n"
   ]
  },
  {
   "cell_type": "code",
   "execution_count": 0,
   "metadata": {
    "application/vnd.databricks.v1+cell": {
     "cellMetadata": {
      "byteLimit": 2048000,
      "rowLimit": 10000
     },
     "inputWidgets": {},
     "nuid": "4f808d4a-1e41-46a1-94eb-dc7e482d9d4e",
     "showTitle": false,
     "tableResultSettingsMap": {},
     "title": ""
    }
   },
   "outputs": [],
   "source": [
    "from pyspark.sql.functions import col, when, lit, regexp_replace\n",
    "\n",
    "# Drop duplicates in all dataframes and fill missing values where appropriate\n",
    "postings_df = postings_df.dropDuplicates().fillna({\"min_salary\": 0, \"max_salary\": 0, \"med_salary\": 0, \"currency\": \"USD\", \"location\": \"Unknown\"})\n",
    "industries_df = industries_df.dropDuplicates().fillna({\"industry_name\": \"Unknown\"})\n",
    "skills_df = skills_df.dropDuplicates().fillna({\"skill_name\": \"Unknown\"})\n",
    "benefits_df = benefits_df.dropDuplicates().fillna({\"type\": \"Unknown\"})\n",
    "job_industries_df = job_industries_df.dropDuplicates()\n",
    "job_skills_df = job_skills_df.dropDuplicates()\n",
    "salaries_df = salaries_df.dropDuplicates().fillna({\"pay_period\": \"Unknown\", \"currency\": \"USD\", \"compensation_type\": \"BASE_SALARY\"})\n",
    "companies_df = companies_df.dropDuplicates().fillna({\"name\": \"Unknown\", \"state\": \"Unknown\", \"country\": \"Unknown\", \"zip_code\": \"Unknown\"})\n",
    "company_industries_df = company_industries_df.dropDuplicates()\n",
    "company_specialities_df = company_specialities_df.dropDuplicates().fillna({\"speciality\": \"Unknown\"})\n",
    "employee_counts_df = employee_counts_df.dropDuplicates().fillna({\"employee_count\": 0, \"follower_count\": 0})\n",
    "\n",
    "# Convert salary columns to integer for consistency\n",
    "postings_df = postings_df.withColumn(\"min_salary\", col(\"min_salary\").cast(\"integer\")) \\\n",
    "                         .withColumn(\"max_salary\", col(\"max_salary\").cast(\"integer\")) \\\n",
    "                         .withColumn(\"med_salary\", col(\"med_salary\").cast(\"integer\"))\n",
    "                         \n",
    "salaries_df = salaries_df.withColumn(\"min_salary\", col(\"min_salary\").cast(\"integer\")) \\\n",
    "                         .withColumn(\"max_salary\", col(\"max_salary\").cast(\"integer\")) \\\n",
    "                         .withColumn(\"med_salary\", col(\"med_salary\").cast(\"integer\"))\n",
    "\n",
    "# Standardize text fields (e.g., lowercase, remove special characters)\n",
    "postings_df = postings_df.withColumn(\"work_type\", regexp_replace(col(\"work_type\"), \"_\", \" \").alias(\"work_type\"))\n"
   ]
  },
  {
   "cell_type": "code",
   "execution_count": 0,
   "metadata": {
    "application/vnd.databricks.v1+cell": {
     "cellMetadata": {
      "byteLimit": 2048000,
      "rowLimit": 10000
     },
     "inputWidgets": {},
     "nuid": "3b805265-c6e3-4414-ab0c-bce59d9033d4",
     "showTitle": false,
     "tableResultSettingsMap": {},
     "title": ""
    }
   },
   "outputs": [],
   "source": [
    "# Merge postings with salaries based on job_id\n",
    "merged_df = postings_df.join(salaries_df, \"job_id\", \"left\").select(\n",
    "    postings_df[\"*\"],\n",
    "    salaries_df[\"min_salary\"].alias(\"salaries_min_salary\"),\n",
    "    salaries_df[\"max_salary\"].alias(\"salaries_max_salary\"),\n",
    "    salaries_df[\"med_salary\"].alias(\"salaries_med_salary\"),\n",
    "    salaries_df[\"pay_period\"].alias(\"salaries_pay_period\")\n",
    ")\n"
   ]
  },
  {
   "cell_type": "code",
   "execution_count": 0,
   "metadata": {
    "application/vnd.databricks.v1+cell": {
     "cellMetadata": {
      "byteLimit": 2048000,
      "rowLimit": 10000
     },
     "inputWidgets": {},
     "nuid": "5c074d98-36bb-4e0e-9df7-ef4ce7bc795d",
     "showTitle": false,
     "tableResultSettingsMap": {},
     "title": ""
    }
   },
   "outputs": [],
   "source": [
    "# Join postings with job industries and industry names\n",
    "merged_df = merged_df.join(job_industries_df, \"job_id\", \"left\") \\\n",
    "                     .join(industries_df, job_industries_df[\"industry_id\"] == industries_df[\"industry_id\"], \"left\") \\\n",
    "                     .drop(job_industries_df[\"industry_id\"]) \\\n",
    "                     .withColumnRenamed(\"industry_name\", \"job_industry_name\")\n"
   ]
  },
  {
   "cell_type": "code",
   "execution_count": 0,
   "metadata": {
    "application/vnd.databricks.v1+cell": {
     "cellMetadata": {
      "byteLimit": 2048000,
      "rowLimit": 10000
     },
     "inputWidgets": {},
     "nuid": "60cb17fe-d112-4ccc-a372-a82afe8970b1",
     "showTitle": false,
     "tableResultSettingsMap": {},
     "title": ""
    }
   },
   "outputs": [],
   "source": [
    "from pyspark.sql.functions import collect_list\n",
    "\n",
    "# Join job skills and skill names, then group by job_id to collect all skills\n",
    "skills_joined = job_skills_df.join(skills_df, \"skill_abr\", \"left\").select(\"job_id\", \"skill_name\")\n",
    "\n",
    "# Group skills by job_id\n",
    "skills_grouped = skills_joined.groupBy(\"job_id\").agg(collect_list(\"skill_name\").alias(\"skills\"))\n",
    "\n",
    "# Join the grouped skills to the main dataframe\n",
    "merged_df = merged_df.join(skills_grouped, \"job_id\", \"left\")\n"
   ]
  },
  {
   "cell_type": "code",
   "execution_count": 0,
   "metadata": {
    "application/vnd.databricks.v1+cell": {
     "cellMetadata": {
      "byteLimit": 2048000,
      "rowLimit": 10000
     },
     "inputWidgets": {},
     "nuid": "010d09b6-d331-491d-8460-82d2e5ce8a79",
     "showTitle": false,
     "tableResultSettingsMap": {},
     "title": ""
    }
   },
   "outputs": [],
   "source": [
    "# Group benefits by job_id\n",
    "benefits_grouped = benefits_df.groupBy(\"job_id\").agg(collect_list(\"type\").alias(\"benefits\"))\n",
    "\n",
    "# Join the grouped benefits to the main dataframe\n",
    "merged_df = merged_df.join(benefits_grouped, \"job_id\", \"left\")\n"
   ]
  },
  {
   "cell_type": "code",
   "execution_count": 0,
   "metadata": {
    "application/vnd.databricks.v1+cell": {
     "cellMetadata": {
      "byteLimit": 2048000,
      "rowLimit": 10000
     },
     "inputWidgets": {},
     "nuid": "41c2be17-0bb3-4768-b5ab-f37cdce657f4",
     "showTitle": false,
     "tableResultSettingsMap": {},
     "title": ""
    }
   },
   "outputs": [],
   "source": [
    "# Join postings with company information\n",
    "merged_df = merged_df.join(companies_df, \"company_id\", \"left\") \\\n",
    "                     .withColumnRenamed(\"name\", \"company_name\") \\\n",
    "                     .withColumnRenamed(\"description\", \"company_description\") \\\n",
    "                     .withColumnRenamed(\"company_size\", \"company_size\") \\\n",
    "                     .withColumnRenamed(\"state\", \"company_state\") \\\n",
    "                     .withColumnRenamed(\"country\", \"company_country\") \\\n",
    "                     .withColumnRenamed(\"city\", \"company_city\")\n"
   ]
  },
  {
   "cell_type": "code",
   "execution_count": 0,
   "metadata": {
    "application/vnd.databricks.v1+cell": {
     "cellMetadata": {
      "byteLimit": 2048000,
      "rowLimit": 10000
     },
     "inputWidgets": {},
     "nuid": "e8ae7f36-750c-424e-9b9c-4a4ceccf3947",
     "showTitle": false,
     "tableResultSettingsMap": {},
     "title": ""
    }
   },
   "outputs": [],
   "source": [
    "# Group industries and specialties by company_id\n",
    "company_industries_grouped = company_industries_df.groupBy(\"company_id\").agg(collect_list(\"industry\").alias(\"company_industries\"))\n",
    "company_specialities_grouped = company_specialities_df.groupBy(\"company_id\").agg(collect_list(\"speciality\").alias(\"company_specialties\"))\n",
    "\n",
    "# Join the grouped data to the main dataframe\n",
    "merged_df = merged_df.join(company_industries_grouped, \"company_id\", \"left\") \\\n",
    "                     .join(company_specialities_grouped, \"company_id\", \"left\")\n"
   ]
  },
  {
   "cell_type": "code",
   "execution_count": 0,
   "metadata": {
    "application/vnd.databricks.v1+cell": {
     "cellMetadata": {
      "byteLimit": 2048000,
      "rowLimit": 10000
     },
     "inputWidgets": {},
     "nuid": "506058a5-c57c-4d4f-99f3-cb03b3de9686",
     "showTitle": false,
     "tableResultSettingsMap": {},
     "title": ""
    }
   },
   "outputs": [],
   "source": [
    "# Join employee counts data\n",
    "merged_df = merged_df.join(employee_counts_df, \"company_id\", \"left\") \\\n",
    "                     .withColumnRenamed(\"employee_count\", \"company_employee_count\") \\\n",
    "                     .withColumnRenamed(\"follower_count\", \"company_follower_count\")\n"
   ]
  },
  {
   "cell_type": "code",
   "execution_count": 0,
   "metadata": {
    "application/vnd.databricks.v1+cell": {
     "cellMetadata": {
      "byteLimit": 2048000,
      "rowLimit": 10000
     },
     "inputWidgets": {},
     "nuid": "3ab5c150-efb1-452f-bba4-d0a53e5805d9",
     "showTitle": false,
     "tableResultSettingsMap": {},
     "title": ""
    }
   },
   "outputs": [
    {
     "output_type": "stream",
     "name": "stdout",
     "output_type": "stream",
     "text": [
      "+----------+-----------------------------------------------------------------------------------------------------------------------------------------------------------------------------------------------------------------------------------------------------------------------------------------------------------------------------------------------------------------------------------------------------------------------------------------------------------------------------------------------------------------------------------------------------------------------------------------------------------------------------------------------------------------------------------------------------------------------------------------------------------------------------------------------------------------------------------------------------------------------------------------------------------------------------------------------------------------------------------------------------------------------------------------------------------------------------------------------+------------------------------------------------------------------------------------------------------------------------------------------------------------------------------------------------------------------------------------------------------------------------------------------------------------------------------------------------------------------------------------------------------------------------------------------------------------------------------------------------------------------------------------------------------------------------------------------------------------------------------------------------------------------------------------------------------------------------------------------------------------------------------------------------------------------------------------------------------------------------------------------------------------------------------------------------------------------------------------------------------------------------------------------------+--------------------------------------------------------------------------------------------------------------------------------------------------------------------------+--------------------------------------------------------------------------------------------------------------------------------------------------------------------------------------------------------------------------------------------------------------------------------------------------------------------------------------------------------------------------------------------------------------------------------------------------------------------------------------------------------------------------------------------------------------------------------------------------------------------------------------------------------------------------------------------------------------------------------------------------------------------------------------------------------------------------------------------------------------------------------------------------------------------------------------------------------------------------------------------------------------------------------------------------------------------------------------------------------------------------------------------------------------------------------------------------------------------------------------------------------------------------------------------------------------------------------------------------------------------------------------------------------------------------------------------------------------------------------------------------------------------------------------------------------------------------------------------------------------------------------------------------------------------------------------------------------------------------------------------------------------------------------------------------------------------------------------------------------------------------------------------------------------------------------------------------------------------------------------------------------------------------------------------------------------------------------------------------------------------------------------------------------------------------------------------------------------------------------------------------------------------------------------------------------------------------------------------------------------------------------------------------------------+----------+----------+---------+---------------+----------+----------+-------------------+-------------------------------------------------------------------+--------------------+------------------+---------------+----------------+----------------+------+-----------+--------------------------+-----------+-----------+--------------+-----------+---------+--------+-----------------+-----------------+--------+----+-------------------+-------------------+-------------------+-------------------+-----------+-----------------+---------------------------+--------+------------+-------------------+------------+-------------+---------------+------------+--------+-------+----+------------------+-------------------+----------------------+----------------------+-------------+\n|company_id|job_id                                                                                                                                                                                                                                                                                                                                                                                                                                                                                                                                                                                                                                                                                                                                                                                                                                                                                                                                                                                                                                                                                         |company_name                                                                                                                                                                                                                                                                                                                                                                                                                                                                                                                                                                                                                                                                                                                                                                                                                                                                                                                                                                                                                                    |title                                                                                                                                                                     |company_description                                                                                                                                                                                                                                                                                                                                                                                                                                                                                                                                                                                                                                                                                                                                                                                                                                                                                                                                                                                                                                                                                                                                                                                                                                                                                                                                                                                                                                                                                                                                                                                                                                                                                                                                                                                                                                                                                                                                                                                                                                                                                                                                                                                                                                                                                                                                                                                           |max_salary|pay_period|location |views          |med_salary|min_salary|formatted_work_type|applies                                                            |original_listed_time|remote_allowed    |job_posting_url|application_url |application_type|expiry|closed_time|formatted_experience_level|skills_desc|listed_time|posting_domain|sponsored  |work_type|currency|compensation_type|normalized_salary|zip_code|fips|salaries_min_salary|salaries_max_salary|salaries_med_salary|salaries_pay_period|industry_id|job_industry_name|skills                     |benefits|company_name|company_description|company_size|company_state|company_country|company_city|zip_code|address|url |company_industries|company_specialties|company_employee_count|company_follower_count|time_recorded|\n+----------+-----------------------------------------------------------------------------------------------------------------------------------------------------------------------------------------------------------------------------------------------------------------------------------------------------------------------------------------------------------------------------------------------------------------------------------------------------------------------------------------------------------------------------------------------------------------------------------------------------------------------------------------------------------------------------------------------------------------------------------------------------------------------------------------------------------------------------------------------------------------------------------------------------------------------------------------------------------------------------------------------------------------------------------------------------------------------------------------------+------------------------------------------------------------------------------------------------------------------------------------------------------------------------------------------------------------------------------------------------------------------------------------------------------------------------------------------------------------------------------------------------------------------------------------------------------------------------------------------------------------------------------------------------------------------------------------------------------------------------------------------------------------------------------------------------------------------------------------------------------------------------------------------------------------------------------------------------------------------------------------------------------------------------------------------------------------------------------------------------------------------------------------------------+--------------------------------------------------------------------------------------------------------------------------------------------------------------------------+--------------------------------------------------------------------------------------------------------------------------------------------------------------------------------------------------------------------------------------------------------------------------------------------------------------------------------------------------------------------------------------------------------------------------------------------------------------------------------------------------------------------------------------------------------------------------------------------------------------------------------------------------------------------------------------------------------------------------------------------------------------------------------------------------------------------------------------------------------------------------------------------------------------------------------------------------------------------------------------------------------------------------------------------------------------------------------------------------------------------------------------------------------------------------------------------------------------------------------------------------------------------------------------------------------------------------------------------------------------------------------------------------------------------------------------------------------------------------------------------------------------------------------------------------------------------------------------------------------------------------------------------------------------------------------------------------------------------------------------------------------------------------------------------------------------------------------------------------------------------------------------------------------------------------------------------------------------------------------------------------------------------------------------------------------------------------------------------------------------------------------------------------------------------------------------------------------------------------------------------------------------------------------------------------------------------------------------------------------------------------------------------------------------+----------+----------+---------+---------------+----------+----------+-------------------+-------------------------------------------------------------------+--------------------+------------------+---------------+----------------+----------------+------+-----------+--------------------------+-----------+-----------+--------------+-----------+---------+--------+-----------------+-----------------+--------+----+-------------------+-------------------+-------------------+-------------------+-----------+-----------------+---------------------------+--------+------------+-------------------+------------+-------------+---------------+------------+--------+-------+----+------------------+-------------------+----------------------+----------------------+-------------+\n|null      |We value and are strengthened by diversity and desire a warm and welcoming place for all people. We believe in racial and ethnic equality                                                                                                                                                                                                                                                                                                                                                                                                                                                                                                                                                                                                                                                                                                                                                                                                                                                                                                                                                      | gender equity and social inclusion.                                                                                                                                                                                                                                                                                                                                                                                                                                                                                                                                                                                                                                                                                                                                                                                                                                                                                                                                                                                                            |null                                                                                                                                                                      |null                                                                                                                                                                                                                                                                                                                                                                                                                                                                                                                                                                                                                                                                                                                                                                                                                                                                                                                                                                                                                                                                                                                                                                                                                                                                                                                                                                                                                                                                                                                                                                                                                                                                                                                                                                                                                                                                                                                                                                                                                                                                                                                                                                                                                                                                                                                                                                                                          |0         |Unknown   |Unknown  |null           |0         |0         |null               |null                                                               |null                |null              |null           |null            |null            |null  |null       |null                      |null       |null       |null          |null       |null     |USD     |null             |null             |null    |null|0                  |0                  |0                  |null               |null       |Unknown          |[]                         |[]      |null        |null               |null        |null         |null           |null        |null    |null   |null|[]                |[]                 |0                     |0                     |null         |\n|30.0      |Please note that this job description is not exhaustive and additional duties may be assigned as needed.\"                                                                                                                                                                                                                                                                                                                                                                                                                                                                                                                                                                                                                                                                                                                                                                                                                                                                                                                                                                                      |50.0                                                                                                                                                                                                                                                                                                                                                                                                                                                                                                                                                                                                                                                                                                                                                                                                                                                                                                                                                                                                                                            |HOURLY                                                                                                                                                                    |Fort Collins, CO                                                                                                                                                                                                                                                                                                                                                                                                                                                                                                                                                                                                                                                                                                                                                                                                                                                                                                                                                                                                                                                                                                                                                                                                                                                                                                                                                                                                                                    \n\n*** WARNING: max output size exceeded, skipping output. ***\n\n                                                                                                                                                                                                                                                                                                                                                                   | paid time off                                                                                                                                                            | complimentary dining privileges and bonus opportunities.                                                                                                                                                                                                                                                                                                                                                                                                                                                                                                                                                                                                                                                                                                                                                                                                                                                                                                                                                                                                                                                                                                                                                                                                                                                                                                                                                                                                                                                                                                                                                                                                                                                                                                                                                                                                                                                                                                                                                                                                                                                                                                                                                                                                                                                                                                                                                     |0         |Unknown   |Unknown  |null           |0         |0         |null               |null                                                               |null                |null              |null           |null            |null            |null  |null       |null                      |null       |null       |null          |null       |null     |USD     |null             |null             |null    |null|0                  |0                  |0                  |null               |null       |Unknown          |[]                         |[]      |null        |null               |null        |null         |null           |null        |null    |null   |null|[]                |[]                 |0                     |0                     |null         |\n|null      |Position Requirement Possibilities:A graduate level psychological counseling-related degreeMasters of Social Work (MSW/LSW)Licensed Professional Counselor Candidate (LPCC)Clinical Social worker (LCSW)Professional Counselor (LPC)Marriage/Family Therapist (LMFT)Relating to this?Wanting to deliver high quality mental healthcareSeeking quality supervision and growth in a healthy environmentWhat we offer:Flexible work scheduleW2 Employment - commission basedBuilding to full time workJump of 5% in commission as well as monthly bonus/stipend once full timeWeekly supervision providedPaid weekly team meetings $30/hrTwo paid wellness hours/month $30/hrTelemedicine and in-person flexibilitySupportive work environment with direct access to two supervisorsAdministrative supportApproved professional development training providedFully automated EHR and technology supportStrong work/life balanceJob Duties:Conducting intake assessmentsDeveloping and implementing treatment plans for clients based on assessment and coordinating any additional services needed| revising as necessaryConducting individual sessions as appropriate for the treatment plan of the patientApplying psychotherapeutic techniques and interventions in the delivery of services to individuals for the purpose of treating emotional and behavioral disorders that have been diagnosed in assessmentParticipating in team meetings in order to staff new cases. Presenting appropriate patient information to the team. Recommending effective treatment interventions.Building and maintaining an active caseload with assigned clientsCompleting timely progress notes and treatment updates in the EHR. Maintaining all clinical documentation in accordance with regulatory and accrediting standardsProviding crisis intervention to patients in acute distress and referring as neededPerforming case management and discharge planning as neededExcellent communication and interpersonal skillsCompassionate and empathetic approach to patient carePlease send resume and cover letter to info@aspentherapyandwellness.com|null                                                                                                                                                                      |null                                                                                                                                                                                                                                                                                                                                                                                                                                                                                                                                                                                                                                                                                                                                                                                                                                                                                                                                                                                                                                                                                                                                                                                                                                                                                                                                                                                                                                                                                                                                                                                                                                                                                                                                                                                                                                                                                                                                                                                                                                                                                                                                                                                                                                                                                                                                                                                                          |0         |Unknown   |Unknown  |null           |0         |0         |null               |null                                                               |null                |null              |null           |null            |null            |null  |null       |null                      |null       |null       |null          |null       |null     |USD     |null             |null             |null    |null|0                  |0                  |0                  |null               |null       |Unknown          |[]                         |[]      |null        |null               |null        |null         |null           |null        |null    |null   |null|[]                |[]                 |0                     |0                     |null         |\n|null      |We are a serious                                                                                                                                                                                                                                                                                                                                                                                                                                                                                                                                                                                                                                                                                                                                                                                                                                                                                                                                                                                                                                                                               | professional                                                                                                                                                                                                                                                                                                                                                                                                                                                                                                                                                                                                                                                                                                                                                                                                                                                                                                                                                                                                                                   | long-standing neighborhood restaurant with over 41 years of service. If you are looking for a long-term fit with a best in class organization then you should apply now. |null                                                                                                                                                                                                                                                                                                                                                                                                                                                                                                                                                                                                                                                                                                                                                                                                                                                                                                                                                                                                                                                                                                                                                                                                                                                                                                                                                                                                                                                                                                                                                                                                                                                                                                                                                                                                                                                                                                                                                                                                                                                                                                                                                                                                                                                                                                                                                                                                          |0         |Unknown   |Unknown  |null           |0         |0         |null               |null                                                               |null                |null              |null           |null            |null            |null  |null       |null                      |null       |null       |null          |null       |null     |USD     |null             |null             |null    |null|0                  |0                  |0                  |null               |null       |Unknown          |[]                         |[]      |null        |null               |null        |null         |null           |null        |null    |null   |null|[]                |[]                 |0                     |0                     |null         |\n|null      |We are a prominent Lake Success Law Firm seeking an associate attorney for its growing Elder Law and Estate Planning practice. The successful candidate will be a self-motivated                                                                                                                                                                                                                                                                                                                                                                                                                                                                                                                                                                                                                                                                                                                                                                                                                                                                                                               | detail-oriented team member with strong communication skills and a desire to grow their practice. Experience with Estate Planning                                                                                                                                                                                                                                                                                                                                                                                                                                                                                                                                                                                                                                                                                                                                                                                                                                                                                                              | Administration                                                                                                                                                           | and Litigation and is preferred.                                                                                                                                                                                                                                                                                                                                                                                                                                                                                                                                                                                                                                                                                                                                                                                                                                                                                                                                                                                                                                                                                                                                                                                                                                                                                                                                                                                                                                                                                                                                                                                                                                                                                                                                                                                                                                                                                                                                                                                                                                                                                                                                                                                                                                                                                                                                                                             |0         |Unknown   |Unknown  |null           |0         |0         |null               |null                                                               |null                |null              |null           |null            |null            |null  |null       |null                      |null       |null       |null          |null       |null     |USD     |null             |null             |null    |null|0                  |0                  |0                  |null               |null       |Unknown          |[]                         |[]      |null        |null               |null        |null         |null           |null        |null    |null   |null|[]                |[]                 |0                     |0                     |null         |\n+----------+-----------------------------------------------------------------------------------------------------------------------------------------------------------------------------------------------------------------------------------------------------------------------------------------------------------------------------------------------------------------------------------------------------------------------------------------------------------------------------------------------------------------------------------------------------------------------------------------------------------------------------------------------------------------------------------------------------------------------------------------------------------------------------------------------------------------------------------------------------------------------------------------------------------------------------------------------------------------------------------------------------------------------------------------------------------------------------------------------+------------------------------------------------------------------------------------------------------------------------------------------------------------------------------------------------------------------------------------------------------------------------------------------------------------------------------------------------------------------------------------------------------------------------------------------------------------------------------------------------------------------------------------------------------------------------------------------------------------------------------------------------------------------------------------------------------------------------------------------------------------------------------------------------------------------------------------------------------------------------------------------------------------------------------------------------------------------------------------------------------------------------------------------------+--------------------------------------------------------------------------------------------------------------------------------------------------------------------------+--------------------------------------------------------------------------------------------------------------------------------------------------------------------------------------------------------------------------------------------------------------------------------------------------------------------------------------------------------------------------------------------------------------------------------------------------------------------------------------------------------------------------------------------------------------------------------------------------------------------------------------------------------------------------------------------------------------------------------------------------------------------------------------------------------------------------------------------------------------------------------------------------------------------------------------------------------------------------------------------------------------------------------------------------------------------------------------------------------------------------------------------------------------------------------------------------------------------------------------------------------------------------------------------------------------------------------------------------------------------------------------------------------------------------------------------------------------------------------------------------------------------------------------------------------------------------------------------------------------------------------------------------------------------------------------------------------------------------------------------------------------------------------------------------------------------------------------------------------------------------------------------------------------------------------------------------------------------------------------------------------------------------------------------------------------------------------------------------------------------------------------------------------------------------------------------------------------------------------------------------------------------------------------------------------------------------------------------------------------------------------------------------------------+----------+----------+---------+---------------+----------+----------+-------------------+-------------------------------------------------------------------+--------------------+------------------+---------------+----------------+----------------+------+-----------+--------------------------+-----------+-----------+--------------+-----------+---------+--------+-----------------+-----------------+--------+----+-------------------+-------------------+-------------------+-------------------+-----------+-----------------+---------------------------+--------+------------+-------------------+------------+-------------+---------------+------------+--------+-------+----+------------------+-------------------+----------------------+----------------------+-------------+\nonly showing top 20 rows\n\n"
     ]
    }
   ],
   "source": [
    "from pyspark.sql.functions import lit, array, when\n",
    "\n",
    "# Fill non-array columns with default values\n",
    "merged_df = merged_df.fillna({\n",
    "    \"salaries_min_salary\": 0,\n",
    "    \"salaries_max_salary\": 0,\n",
    "    \"salaries_med_salary\": 0,\n",
    "    \"pay_period\": \"Unknown\",\n",
    "    \"job_industry_name\": \"Unknown\",\n",
    "    \"company_employee_count\": 0,\n",
    "    \"company_follower_count\": 0\n",
    "})\n",
    "\n",
    "# For array columns, replace nulls with empty arrays\n",
    "merged_df = merged_df.withColumn(\"skills\", when(col(\"skills\").isNull(), array().cast(\"array<string>\")).otherwise(col(\"skills\"))) \\\n",
    "                     .withColumn(\"benefits\", when(col(\"benefits\").isNull(), array().cast(\"array<string>\")).otherwise(col(\"benefits\"))) \\\n",
    "                     .withColumn(\"company_industries\", when(col(\"company_industries\").isNull(), array().cast(\"array<string>\")).otherwise(col(\"company_industries\"))) \\\n",
    "                     .withColumn(\"company_specialties\", when(col(\"company_specialties\").isNull(), array().cast(\"array<string>\")).otherwise(col(\"company_specialties\")))\n",
    "\n",
    "# Show the merged dataset\n",
    "merged_df.show(truncate=False)\n",
    "\n"
   ]
  },
  {
   "cell_type": "code",
   "execution_count": 0,
   "metadata": {
    "application/vnd.databricks.v1+cell": {
     "cellMetadata": {
      "byteLimit": 2048000,
      "rowLimit": 10000
     },
     "inputWidgets": {},
     "nuid": "394a0ad9-7c8a-426c-9814-160e5d313a9f",
     "showTitle": false,
     "tableResultSettingsMap": {},
     "title": ""
    }
   },
   "outputs": [
    {
     "output_type": "stream",
     "name": "stdout",
     "output_type": "stream",
     "text": [
      "root\n |-- company_id: string (nullable = true)\n |-- job_id: string (nullable = true)\n |-- company_name: string (nullable = true)\n |-- title: string (nullable = true)\n |-- company_description: string (nullable = true)\n |-- max_salary: integer (nullable = false)\n |-- pay_period: string (nullable = false)\n |-- location: string (nullable = false)\n |-- views: string (nullable = true)\n |-- med_salary: integer (nullable = false)\n |-- min_salary: integer (nullable = false)\n |-- formatted_work_type: string (nullable = true)\n |-- applies: string (nullable = true)\n |-- original_listed_time: string (nullable = true)\n |-- remote_allowed: string (nullable = true)\n |-- job_posting_url: string (nullable = true)\n |-- application_url: string (nullable = true)\n |-- application_type: string (nullable = true)\n |-- expiry: timestamp (nullable = true)\n |-- closed_time: timestamp (nullable = true)\n |-- formatted_experience_level: string (nullable = true)\n |-- skills_desc: string (nullable = true)\n |-- listed_time: timestamp (nullable = true)\n |-- posting_domain: string (nullable = true)\n |-- sponsored: string (nullable = true)\n |-- work_type: string (nullable = true)\n |-- currency: string (nullable = false)\n |-- compensation_type: string (nullable = true)\n |-- normalized_salary: string (nullable = true)\n |-- zip_code: string (nullable = true)\n |-- fips: string (nullable = true)\n |-- salaries_min_salary: integer (nullable = false)\n |-- salaries_max_salary: integer (nullable = false)\n |-- salaries_med_salary: integer (nullable = false)\n |-- salaries_pay_period: string (nullable = true)\n |-- industry_id: string (nullable = true)\n |-- job_industry_name: string (nullable = false)\n |-- skills: array (nullable = true)\n |    |-- element: string (containsNull = true)\n |-- benefits: array (nullable = true)\n |    |-- element: string (containsNull = true)\n |-- company_name: string (nullable = true)\n |-- company_description: string (nullable = true)\n |-- company_size: string (nullable = true)\n |-- company_state: string (nullable = true)\n |-- company_country: string (nullable = true)\n |-- company_city: string (nullable = true)\n |-- zip_code: string (nullable = true)\n |-- address: string (nullable = true)\n |-- url: string (nullable = true)\n |-- company_industries: array (nullable = true)\n |    |-- element: string (containsNull = true)\n |-- company_specialties: array (nullable = true)\n |    |-- element: string (containsNull = true)\n |-- company_employee_count: string (nullable = false)\n |-- company_follower_count: string (nullable = false)\n |-- time_recorded: string (nullable = true)\n\n"
     ]
    }
   ],
   "source": [
    "# Show the schema to identify duplicate columns\n",
    "merged_df.printSchema()\n",
    "\n",
    "\n"
   ]
  },
  {
   "cell_type": "code",
   "execution_count": 0,
   "metadata": {
    "application/vnd.databricks.v1+cell": {
     "cellMetadata": {
      "byteLimit": 2048000,
      "rowLimit": 10000
     },
     "inputWidgets": {},
     "nuid": "6ad086e6-fe22-4e10-976a-ca7799e24258",
     "showTitle": false,
     "tableResultSettingsMap": {},
     "title": ""
    }
   },
   "outputs": [],
   "source": [
    "# Drop unnecessary duplicate columns\n",
    "merged_df = merged_df.drop(\"company_name\", \"company_description\", \"zip_code\")\n"
   ]
  },
  {
   "cell_type": "code",
   "execution_count": 0,
   "metadata": {
    "application/vnd.databricks.v1+cell": {
     "cellMetadata": {
      "byteLimit": 2048000,
      "rowLimit": 10000
     },
     "inputWidgets": {},
     "nuid": "9ac88b87-6be0-42d2-97a4-3bf9b1bdf515",
     "showTitle": false,
     "tableResultSettingsMap": {},
     "title": ""
    }
   },
   "outputs": [
    {
     "output_type": "stream",
     "name": "stdout",
     "output_type": "stream",
     "text": [
      "root\n |-- company_id: string (nullable = true)\n |-- job_id: string (nullable = true)\n |-- title: string (nullable = true)\n |-- max_salary: integer (nullable = false)\n |-- pay_period: string (nullable = false)\n |-- location: string (nullable = false)\n |-- views: string (nullable = true)\n |-- med_salary: integer (nullable = false)\n |-- min_salary: integer (nullable = false)\n |-- formatted_work_type: string (nullable = true)\n |-- applies: string (nullable = true)\n |-- original_listed_time: string (nullable = true)\n |-- remote_allowed: string (nullable = true)\n |-- job_posting_url: string (nullable = true)\n |-- application_url: string (nullable = true)\n |-- application_type: string (nullable = true)\n |-- expiry: timestamp (nullable = true)\n |-- closed_time: timestamp (nullable = true)\n |-- formatted_experience_level: string (nullable = true)\n |-- skills_desc: string (nullable = true)\n |-- listed_time: timestamp (nullable = true)\n |-- posting_domain: string (nullable = true)\n |-- sponsored: string (nullable = true)\n |-- work_type: string (nullable = true)\n |-- currency: string (nullable = false)\n |-- compensation_type: string (nullable = true)\n |-- normalized_salary: string (nullable = true)\n |-- fips: string (nullable = true)\n |-- salaries_min_salary: integer (nullable = false)\n |-- salaries_max_salary: integer (nullable = false)\n |-- salaries_med_salary: integer (nullable = false)\n |-- salaries_pay_period: string (nullable = true)\n |-- industry_id: string (nullable = true)\n |-- job_industry_name: string (nullable = false)\n |-- skills: array (nullable = true)\n |    |-- element: string (containsNull = true)\n |-- benefits: array (nullable = true)\n |    |-- element: string (containsNull = true)\n |-- company_size: string (nullable = true)\n |-- company_state: string (nullable = true)\n |-- company_country: string (nullable = true)\n |-- company_city: string (nullable = true)\n |-- address: string (nullable = true)\n |-- url: string (nullable = true)\n |-- company_industries: array (nullable = true)\n |    |-- element: string (containsNull = true)\n |-- company_specialties: array (nullable = true)\n |    |-- element: string (containsNull = true)\n |-- company_employee_count: string (nullable = false)\n |-- company_follower_count: string (nullable = false)\n |-- time_recorded: string (nullable = true)\n\n"
     ]
    }
   ],
   "source": [
    "# Check schema after dropping duplicates\n",
    "merged_df.printSchema()\n"
   ]
  },
  {
   "cell_type": "code",
   "execution_count": 0,
   "metadata": {
    "application/vnd.databricks.v1+cell": {
     "cellMetadata": {
      "byteLimit": 2048000,
      "rowLimit": 10000
     },
     "inputWidgets": {},
     "nuid": "174dee35-5130-4ef0-97b0-5c997a407a3e",
     "showTitle": false,
     "tableResultSettingsMap": {},
     "title": ""
    }
   },
   "outputs": [
    {
     "output_type": "stream",
     "name": "stdout",
     "output_type": "stream",
     "text": [
      "+-------+--------------------+--------------------+--------------------+------------------+--------------------+---------+--------------------+------------------+------------------+--------------------+--------------------+--------------------+--------------------+--------------------+--------------------+----------------+--------------------------+-----------+--------------------+--------------------+--------------------+--------------------+--------------------+--------------------+--------------------+-------------------+-------------------+-------------------+-------------------+------------------+--------------------+--------------------+--------------------+---------------+----------------+--------------------+--------------------+----------------------+----------------------+-------------+\n|summary|          company_id|              job_id|               title|        max_salary|          pay_period| location|               views|        med_salary|        min_salary| formatted_work_type|             applies|original_listed_time|      remote_allowed|     job_posting_url|     application_url|application_type|formatted_experience_level|skills_desc|      posting_domain|           sponsored|           work_type|            currency|   compensation_type|   normalized_salary|                fips|salaries_min_salary|salaries_max_salary|salaries_med_salary|salaries_pay_period|       industry_id|   job_industry_name|        company_size|       company_state|company_country|    company_city|             address|                 url|company_employee_count|company_follower_count|time_recorded|\n+-------+--------------------+--------------------+--------------------+------------------+--------------------+---------+--------------------+------------------+------------------+--------------------+--------------------+--------------------+--------------------+--------------------+--------------------+----------------+--------------------------+-----------+--------------------+--------------------+--------------------+--------------------+--------------------+--------------------+--------------------+-------------------+-------------------+-------------------+-------------------+------------------+--------------------+--------------------+--------------------+---------------+----------------+--------------------+--------------------+----------------------+----------------------+-------------+\n|  count|              170672|              879901|              536165|            880046|              880046|   880046|              190378|            880046|            880046|              117939|              140845|              133732|              117780|              131497|               74964|          109879|                    101068|      96826|               72563|               79050|               72012|              880046|               76205|               47661|               34806|             880046|             880046|             880046|              48513|            158964|              880046|                   7|                 780|            780|               2|                   2|                   2|                880046|                880046|            0|\n|   mean|1.1116275866853485E8|6.383714062832001...| 1.077532921268306E9|520014.11158962146|1.5558799569159377E8| Infinity|6.888421532736332E11| 39364.84510809662| 29891.96338486852|            Infinity|            Infinity|1.292636677425912...|6.181410150240066E11|1.450030970373040...|1.239978405969119...|        Infinity|      1.429112613645363...|   Infinity|            Infinity|3.647064063566667E11|2.877089314650655...|6.382163979066502...|5.713197486193107...|9.956192751891677...|2.840470204082586...| 3120.4820804821566|  4422.492639021142| 198.37219645336722|               null|199.09605948516645|                null|                null|                null|           null|            null|                null|                null|                   0.0|                   0.0|         null|\n| stddev|1.347055461966627...|6.678879595646373E12|4.281698030827189E10| 5749564.578238135|1.619390120155891...|      NaN|8.399942767872782E11|1630243.8607412588|1419633.9835291167|                 NaN|                 NaN|7.388866756206132E11|8.227811110297499E11|6.208351218653345E11|7.680025719569117E11|             NaN|      6.377638928596975E11|        NaN|                 NaN|7.015793366693698E11|6.407300717205955E11|1.383708493043223...|1.309182663289555...|1.72825282455071E149|6.373782086728849E11|  92662.80356121357| 131087.87527808253| 5311.6740243890135|               null| 600.4031438328317|                null|                null|                null|           null|            null|                null|                null|                   0.0|                   0.0|         null|\n|    min|                    |                   \"|   \\tHRIS Specialist|                 0|                    |         |                    |                 0|                 0|                    |                    |                    |                    |                    |                  \\n|              \\n|                        \\n|         \\n|                  \\n|                  \\n|                  \\n|                  \\n|                  \\n|                  \\n|                  \\n|                  0|                  0|                  0|           BIWEEKLY|                 1|Abrasives and Non...| ITSM Implementat...| Administration (CFO|     Operations| Human Resources| Retail Branch an...| Mortgage Operations|                     0|                     0|         null|\n|    max|                race|󰗓 Willing to set...|🚀Principal Geote...|         201340122| you’ll be empowe...| teamwork|   Able to priori...|         103167527|         335572020| throughout durat...| succession planning| is disrupting th...| what are you wai...|            transfer|      veteran status|     celebrities|       with or without ...|     tuning| experiment and e...|�Data Champions a...| and usability. C...|• Provides constr...|• Experience with...|” defined by our ...|• Some evenings a...|           85000000|          120000000|             750000|             YEARLY|               998|Zoos and Botanica...|              gender|             Unknown|        Unknown|        religion|      veteran status| or any classific...|                     0|                     0|         null|\n+-------+--------------------+--------------------+--------------------+------------------+--------------------+---------+--------------------+------------------+------------------+--------------------+--------------------+--------------------+--------------------+--------------------+--------------------+----------------+--------------------------+-----------+--------------------+--------------------+--------------------+--------------------+--------------------+--------------------+--------------------+-------------------+-------------------+-------------------+-------------------+------------------+--------------------+--------------------+--------------------+---------------+----------------+--------------------+--------------------+----------------------+----------------------+-------------+\n\n"
     ]
    }
   ],
   "source": [
    "\n",
    "# Summary statistics for numerical columns\n",
    "merged_df.describe().show()\n"
   ]
  },
  {
   "cell_type": "code",
   "execution_count": 0,
   "metadata": {
    "application/vnd.databricks.v1+cell": {
     "cellMetadata": {
      "byteLimit": 2048000,
      "rowLimit": 10000
     },
     "inputWidgets": {},
     "nuid": "7450b44d-19ef-47a2-977c-64b557612e3b",
     "showTitle": false,
     "tableResultSettingsMap": {},
     "title": ""
    }
   },
   "outputs": [
    {
     "output_type": "stream",
     "name": "stdout",
     "output_type": "stream",
     "text": [
      "+-------+------------------+------------------+------------------+-------------------+-------------------+----------------------+----------------------+\n|summary|        min_salary|        med_salary|        max_salary|salaries_min_salary|salaries_max_salary|company_employee_count|company_follower_count|\n+-------+------------------+------------------+------------------+-------------------+-------------------+----------------------+----------------------+\n|  count|            880046|            880046|            880046|             880046|             880046|                880046|                880046|\n|   mean| 29891.96338486852| 39364.84510809662|520014.11158962146| 3120.4820804821566|  4422.492639021142|                   0.0|                   0.0|\n| stddev|1419633.9835291167|1630243.8607412588| 5749564.578238135|  92662.80356121357| 131087.87527808253|                   0.0|                   0.0|\n|    min|                 0|                 0|                 0|                  0|                  0|                     0|                     0|\n|    max|         335572020|         103167527|         201340122|           85000000|          120000000|                     0|                     0|\n+-------+------------------+------------------+------------------+-------------------+-------------------+----------------------+----------------------+\n\n"
     ]
    }
   ],
   "source": [
    "# Select specific numerical columns to get summary statistics\n",
    "selected_columns = [\"min_salary\", \"med_salary\", \"max_salary\", \"salaries_min_salary\", \"salaries_max_salary\", \"company_employee_count\", \"company_follower_count\"]\n",
    "merged_df.select(selected_columns).describe().show()\n"
   ]
  },
  {
   "cell_type": "code",
   "execution_count": 0,
   "metadata": {
    "application/vnd.databricks.v1+cell": {
     "cellMetadata": {
      "byteLimit": 2048000,
      "rowLimit": 10000
     },
     "inputWidgets": {},
     "nuid": "9395ac67-a785-4d56-8f1d-82c5b5a31963",
     "showTitle": false,
     "tableResultSettingsMap": {},
     "title": ""
    }
   },
   "outputs": [
    {
     "output_type": "stream",
     "name": "stdout",
     "output_type": "stream",
     "text": [
      "+-------+------------------+------------------+------------------+-------------------+-------------------+----------------------+----------------------+\n|summary|        min_salary|        med_salary|        max_salary|salaries_min_salary|salaries_max_salary|company_employee_count|company_follower_count|\n+-------+------------------+------------------+------------------+-------------------+-------------------+----------------------+----------------------+\n|  count|            880046|            880046|            880046|             880046|             880046|                880046|                880046|\n|   mean| 29891.96338486852| 39364.84510809662|520014.11158962146| 3120.4820804821566|  4422.492639021142|                   0.0|                   0.0|\n| stddev|1419633.9835291167|1630243.8607412588| 5749564.578238135|  92662.80356121357| 131087.87527808253|                   0.0|                   0.0|\n|    min|                 0|                 0|                 0|                  0|                  0|                     0|                     0|\n|    max|         335572020|         103167527|         201340122|           85000000|          120000000|                     0|                     0|\n+-------+------------------+------------------+------------------+-------------------+-------------------+----------------------+----------------------+\n\n"
     ]
    }
   ],
   "source": [
    "# Get specific summary statistics for selected columns\n",
    "merged_df.select(selected_columns).summary(\"count\", \"mean\", \"stddev\", \"min\", \"max\").show()\n"
   ]
  },
  {
   "cell_type": "code",
   "execution_count": 0,
   "metadata": {
    "application/vnd.databricks.v1+cell": {
     "cellMetadata": {
      "byteLimit": 2048000,
      "rowLimit": 10000
     },
     "inputWidgets": {},
     "nuid": "19596c6f-3d3f-4682-bada-f5fca47a134a",
     "showTitle": false,
     "tableResultSettingsMap": {},
     "title": ""
    }
   },
   "outputs": [
    {
     "output_type": "stream",
     "name": "stdout",
     "output_type": "stream",
     "text": [
      "+-----------------+------------------+--------------+--------------+-----------------+------------------+--------------+--------------+------------------+-----------------+--------------+--------------+\n|  mean_min_salary| stddev_min_salary|min_min_salary|max_min_salary|  mean_med_salary| stddev_med_salary|min_med_salary|max_med_salary|   mean_max_salary|stddev_max_salary|min_max_salary|max_max_salary|\n+-----------------+------------------+--------------+--------------+-----------------+------------------+--------------+--------------+------------------+-----------------+--------------+--------------+\n|29891.96338486852|1419633.9835291167|             0|     335572020|39364.84510809662|1630243.8607412588|             0|     103167527|520014.11158962146|5749564.578238135|             0|     201340122|\n+-----------------+------------------+--------------+--------------+-----------------+------------------+--------------+--------------+------------------+-----------------+--------------+--------------+\n\n"
     ]
    }
   ],
   "source": [
    "from pyspark.sql.functions import mean, stddev, min, max\n",
    "\n",
    "# Calculate mean, standard deviation, min, and max for each relevant column\n",
    "stats_df = merged_df.select(\n",
    "    mean(\"min_salary\").alias(\"mean_min_salary\"),\n",
    "    stddev(\"min_salary\").alias(\"stddev_min_salary\"),\n",
    "    min(\"min_salary\").alias(\"min_min_salary\"),\n",
    "    max(\"min_salary\").alias(\"max_min_salary\"),\n",
    "    \n",
    "    mean(\"med_salary\").alias(\"mean_med_salary\"),\n",
    "    stddev(\"med_salary\").alias(\"stddev_med_salary\"),\n",
    "    min(\"med_salary\").alias(\"min_med_salary\"),\n",
    "    max(\"med_salary\").alias(\"max_med_salary\"),\n",
    "    \n",
    "    mean(\"max_salary\").alias(\"mean_max_salary\"),\n",
    "    stddev(\"max_salary\").alias(\"stddev_max_salary\"),\n",
    "    min(\"max_salary\").alias(\"min_max_salary\"),\n",
    "    max(\"max_salary\").alias(\"max_max_salary\")\n",
    ")\n",
    "\n",
    "stats_df.show()\n"
   ]
  },
  {
   "cell_type": "code",
   "execution_count": 0,
   "metadata": {
    "application/vnd.databricks.v1+cell": {
     "cellMetadata": {
      "byteLimit": 2048000,
      "rowLimit": 10000
     },
     "inputWidgets": {},
     "nuid": "6b3c3bf9-b16b-46bc-8cea-adb675205e45",
     "showTitle": false,
     "tableResultSettingsMap": {},
     "title": ""
    }
   },
   "outputs": [
    {
     "output_type": "stream",
     "name": "stdout",
     "output_type": "stream",
     "text": [
      "+-----------------+--------------+-------------------+------------------+\n|  mean_min_salary|max_max_salary|mean_employee_count|max_follower_count|\n+-----------------+--------------+-------------------+------------------+\n|29891.96338486852|     201340122|                0.0|                 0|\n+-----------------+--------------+-------------------+------------------+\n\n"
     ]
    }
   ],
   "source": [
    "# Custom aggregation for summary statistics\n",
    "merged_df.agg(\n",
    "    mean(\"min_salary\").alias(\"mean_min_salary\"),\n",
    "    max(\"max_salary\").alias(\"max_max_salary\"),\n",
    "    mean(\"company_employee_count\").alias(\"mean_employee_count\"),\n",
    "    max(\"company_follower_count\").alias(\"max_follower_count\")\n",
    ").show()\n"
   ]
  },
  {
   "cell_type": "code",
   "execution_count": 0,
   "metadata": {
    "application/vnd.databricks.v1+cell": {
     "cellMetadata": {
      "byteLimit": 2048000,
      "rowLimit": 10000
     },
     "inputWidgets": {},
     "nuid": "26fc01de-99e1-4bdf-934c-04840bacba88",
     "showTitle": false,
     "tableResultSettingsMap": {},
     "title": ""
    }
   },
   "outputs": [
    {
     "output_type": "display_data",
     "data": {
      "text/html": [
       "<style scoped>\n",
       "  .ansiout {\n",
       "    display: block;\n",
       "    unicode-bidi: embed;\n",
       "    white-space: pre-wrap;\n",
       "    word-wrap: break-word;\n",
       "    word-break: break-all;\n",
       "    font-family: \"Menlo\", \"Monaco\", \"Consolas\", \"Ubuntu Mono\", \"Source Code Pro\", monospace;\n",
       "    font-size: 13px;\n",
       "    color: #555;\n",
       "    margin-left: 4px;\n",
       "    line-height: 19px;\n",
       "  }\n",
       "</style>"
      ]
     },
     "metadata": {
      "application/vnd.databricks.v1+output": {
       "arguments": {},
       "data": "",
       "errorSummary": "Command skipped",
       "errorTraceType": "html",
       "metadata": {},
       "type": "ipynbError"
      }
     },
     "output_type": "display_data"
    }
   ],
   "source": [
    "# Limit to a sample of rows for quick testing\n",
    "sample_df = merged_df.limit(1000)\n",
    "sample_df.describe().show()\n"
   ]
  },
  {
   "cell_type": "markdown",
   "metadata": {
    "application/vnd.databricks.v1+cell": {
     "cellMetadata": {
      "byteLimit": 2048000,
      "rowLimit": 10000
     },
     "inputWidgets": {},
     "nuid": "acf9a079-3e4c-4212-8bbc-efe0a2a9e789",
     "showTitle": false,
     "tableResultSettingsMap": {},
     "title": ""
    }
   },
   "source": [
    "### Machine Learning Model"
   ]
  },
  {
   "cell_type": "code",
   "execution_count": 0,
   "metadata": {
    "application/vnd.databricks.v1+cell": {
     "cellMetadata": {
      "byteLimit": 2048000,
      "rowLimit": 10000
     },
     "inputWidgets": {},
     "nuid": "6c32d313-1702-4bc0-903e-e22d4c7d5936",
     "showTitle": false,
     "tableResultSettingsMap": {},
     "title": ""
    }
   },
   "outputs": [],
   "source": [
    "from pyspark.sql import SparkSession\n",
    "from pyspark.sql.functions import col, lit, when, collect_list\n",
    "from pyspark.sql.types import IntegerType\n",
    "from pyspark.ml.feature import StringIndexer, VectorAssembler, StandardScaler\n",
    "from pyspark.ml.regression import RandomForestRegressor\n",
    "from pyspark.ml.evaluation import RegressionEvaluator\n",
    "\n",
    "# Initialize Spark session\n",
    "spark = SparkSession.builder \\\n",
    "    .appName(\"Job Postings Data Analysis\") \\\n",
    "    .getOrCreate()\n",
    "\n",
    "# File paths dictionary\n",
    "file_paths = {\n",
    "    \"postings\": \"/FileStore/tables/postings.csv\",\n",
    "    \"industries\": \"/FileStore/tables/industries.csv\",\n",
    "    \"skills\": \"/FileStore/tables/skills.csv\",\n",
    "    \"benefits\": \"/FileStore/tables/benefits.csv\",\n",
    "    \"job_industries\": \"/FileStore/tables/job_industries.csv\",\n",
    "    \"job_skills\": \"/FileStore/tables/job_skills.csv\",\n",
    "    \"salaries\": \"/FileStore/tables/salaries.csv\",\n",
    "    \"companies\": \"/FileStore/tables/companies.csv\",\n",
    "    \"company_industries\": \"/FileStore/tables/company_industries.csv\",\n",
    "    \"company_specialities\": \"/FileStore/tables/company_specialities.csv\",\n",
    "    \"employee_counts\": \"/FileStore/tables/employee_counts.csv\"\n",
    "}\n",
    "\n",
    "# Load datasets\n",
    "postings_df = spark.read.csv(file_paths[\"postings\"], header=True, inferSchema=True)\n",
    "industries_df = spark.read.csv(file_paths[\"industries\"], header=True, inferSchema=True)\n",
    "skills_df = spark.read.csv(file_paths[\"skills\"], header=True, inferSchema=True)\n",
    "benefits_df = spark.read.csv(file_paths[\"benefits\"], header=True, inferSchema=True)\n",
    "job_industries_df = spark.read.csv(file_paths[\"job_industries\"], header=True, inferSchema=True)\n",
    "job_skills_df = spark.read.csv(file_paths[\"job_skills\"], header=True, inferSchema=True)\n",
    "salaries_df = spark.read.csv(file_paths[\"salaries\"], header=True, inferSchema=True)\n",
    "companies_df = spark.read.csv(file_paths[\"companies\"], header=True, inferSchema=True)\n",
    "company_industries_df = spark.read.csv(file_paths[\"company_industries\"], header=True, inferSchema=True)\n",
    "company_specialities_df = spark.read.csv(file_paths[\"company_specialities\"], header=True, inferSchema=True)\n",
    "employee_counts_df = spark.read.csv(file_paths[\"employee_counts\"], header=True, inferSchema=True)\n",
    "\n",
    "# Data Cleaning\n",
    "\n",
    "# Drop duplicates\n",
    "postings_df = postings_df.dropDuplicates()\n",
    "\n",
    "# Fill missing values\n",
    "postings_df = postings_df.fillna({\n",
    "    \"min_salary\": 0,\n",
    "    \"max_salary\": 0,\n",
    "    \"med_salary\": 0,\n",
    "    \"location\": \"Unknown\",\n",
    "    \"currency\": \"USD\"\n",
    "})\n",
    "\n",
    "# Convert salary columns to integer type\n",
    "postings_df = postings_df.withColumn(\"min_salary\", col(\"min_salary\").cast(IntegerType()))\n",
    "postings_df = postings_df.withColumn(\"max_salary\", col(\"max_salary\").cast(IntegerType()))\n",
    "postings_df = postings_df.withColumn(\"med_salary\", col(\"med_salary\").cast(IntegerType()))\n",
    "\n",
    "# Standardize pay period\n",
    "postings_df = postings_df.withColumn(\"pay_period\", when(col(\"pay_period\") == \"HOURLY\", \"hourly\")\n",
    "                                     .when(col(\"pay_period\") == \"YEARLY\", \"yearly\").otherwise(col(\"pay_period\")))\n",
    "\n",
    "# Merge DataFrames\n",
    "\n",
    "# Merge postings with salaries\n",
    "salaries_df = salaries_df.withColumnRenamed(\"min_salary\", \"salaries_min_salary\") \\\n",
    "                         .withColumnRenamed(\"max_salary\", \"salaries_max_salary\") \\\n",
    "                         .withColumnRenamed(\"med_salary\", \"salaries_med_salary\") \\\n",
    "                         .withColumnRenamed(\"pay_period\", \"salaries_pay_period\")\n",
    "\n",
    "merged_df = postings_df.join(salaries_df, \"job_id\", \"left\")\n",
    "\n",
    "# Merge with employee counts\n",
    "merged_df = merged_df.join(employee_counts_df, \"company_id\", \"left\") \\\n",
    "    .withColumnRenamed(\"employee_count\", \"company_employee_count\") \\\n",
    "    .withColumnRenamed(\"follower_count\", \"company_follower_count\")\n",
    "\n",
    "# Merge with job industries and industry names\n",
    "merged_df = merged_df.join(job_industries_df, \"job_id\", \"left\")\n",
    "merged_df = merged_df.join(industries_df, \"industry_id\", \"left\") \\\n",
    "    .withColumnRenamed(\"industry_name\", \"job_industry_name\")\n",
    "\n",
    "# Merge with job skills\n",
    "skills_grouped = job_skills_df.join(skills_df, \"skill_abr\", \"left\") \\\n",
    "    .groupBy(\"job_id\").agg(collect_list(\"skill_name\").alias(\"skills\"))\n",
    "merged_df = merged_df.join(skills_grouped, \"job_id\", \"left\")\n",
    "\n",
    "# Merge with benefits\n",
    "benefits_grouped = benefits_df.groupBy(\"job_id\").agg(collect_list(\"type\").alias(\"benefits\"))\n",
    "merged_df = merged_df.join(benefits_grouped, \"job_id\", \"left\")\n",
    "\n",
    "# Merge with company data\n",
    "merged_df = merged_df.join(companies_df, \"company_id\", \"left\") \\\n",
    "    .withColumnRenamed(\"name\", \"company_name\") \\\n",
    "    .withColumnRenamed(\"description\", \"company_description\") \\\n",
    "    .withColumnRenamed(\"company_size\", \"company_size\") \\\n",
    "    .withColumnRenamed(\"state\", \"company_state\") \\\n",
    "    .withColumnRenamed(\"country\", \"company_country\") \\\n",
    "    .withColumnRenamed(\"city\", \"company_city\")\n",
    "\n",
    "# Fill missing values for numeric fields\n",
    "merged_df = merged_df.fillna({\n",
    "    \"salaries_min_salary\": 0,\n",
    "    \"salaries_max_salary\": 0,\n",
    "    \"salaries_med_salary\": 0,\n",
    "    \"pay_period\": \"Unknown\",\n",
    "    \"job_industry_name\": \"Unknown\",\n",
    "    \"company_employee_count\": 0,\n",
    "    \"company_follower_count\": 0\n",
    "})\n",
    "\n",
    "# Selecting relevant columns\n",
    "required_columns = [\"salaries_med_salary\", \"location\", \"job_industry_name\", \"work_type\", \"remote_allowed\",\n",
    "                    \"company_employee_count\", \"company_follower_count\"]\n",
    "data = merged_df.select(required_columns)\n",
    "\n",
    "# Feature Engineering"
   ]
  },
  {
   "cell_type": "code",
   "execution_count": 0,
   "metadata": {
    "application/vnd.databricks.v1+cell": {
     "cellMetadata": {
      "byteLimit": 2048000,
      "rowLimit": 10000
     },
     "inputWidgets": {},
     "nuid": "8bf7293e-fb2a-466c-b0c7-f07036174557",
     "showTitle": false,
     "tableResultSettingsMap": {},
     "title": ""
    }
   },
   "outputs": [],
   "source": [
    "postings_df = postings_df.dropDuplicates()\n",
    "\n",
    "# Fill missing values\n",
    "postings_df = postings_df.fillna({\n",
    "    \"min_salary\": 0,\n",
    "    \"max_salary\": 0,\n",
    "    \"med_salary\": 0,\n",
    "    \"location\": \"Unknown\",\n",
    "    \"currency\": \"USD\"\n",
    "})\n",
    "\n",
    "# Convert salary columns to integer type\n",
    "postings_df = postings_df.withColumn(\"min_salary\", col(\"min_salary\").cast(IntegerType()))\n",
    "postings_df = postings_df.withColumn(\"max_salary\", col(\"max_salary\").cast(IntegerType()))\n",
    "postings_df = postings_df.withColumn(\"med_salary\", col(\"med_salary\").cast(IntegerType()))\n",
    "\n",
    "# Standardize pay period\n",
    "postings_df = postings_df.withColumn(\"pay_period\", when(col(\"pay_period\") == \"HOURLY\", \"hourly\")\n",
    "                                     .when(col(\"pay_period\") == \"YEARLY\", \"yearly\").otherwise(col(\"pay_period\")))\n",
    "\n",
    "# Merge DataFrames\n",
    "\n",
    "# Merge postings with salaries\n",
    "salaries_df = salaries_df.withColumnRenamed(\"min_salary\", \"salaries_min_salary\") \\\n",
    "                         .withColumnRenamed(\"max_salary\", \"salaries_max_salary\") \\\n",
    "                         .withColumnRenamed(\"med_salary\", \"salaries_med_salary\") \\\n",
    "                         .withColumnRenamed(\"pay_period\", \"salaries_pay_period\")\n",
    "\n",
    "merged_df = postings_df.join(salaries_df, \"job_id\", \"left\")\n",
    "\n",
    "# Merge with employee counts\n",
    "merged_df = merged_df.join(employee_counts_df, \"company_id\", \"left\") \\\n",
    "    .withColumnRenamed(\"employee_count\", \"company_employee_count\") \\\n",
    "    .withColumnRenamed(\"follower_count\", \"company_follower_count\")\n",
    "\n",
    "# Merge with job industries and industry names\n",
    "merged_df = merged_df.join(job_industries_df, \"job_id\", \"left\")\n",
    "merged_df = merged_df.join(industries_df, \"industry_id\", \"left\") \\\n",
    "    .withColumnRenamed(\"industry_name\", \"job_industry_name\")\n",
    "\n",
    "# Merge with job skills\n",
    "skills_grouped = job_skills_df.join(skills_df, \"skill_abr\", \"left\") \\\n",
    "    .groupBy(\"job_id\").agg(collect_list(\"skill_name\").alias(\"skills\"))\n",
    "merged_df = merged_df.join(skills_grouped, \"job_id\", \"left\")\n",
    "\n",
    "# Merge with benefits\n",
    "benefits_grouped = benefits_df.groupBy(\"job_id\").agg(collect_list(\"type\").alias(\"benefits\"))\n",
    "merged_df = merged_df.join(benefits_grouped, \"job_id\", \"left\")\n",
    "\n",
    "# Merge with company data\n",
    "merged_df = merged_df.join(companies_df, \"company_id\", \"left\") \\\n",
    "    .withColumnRenamed(\"name\", \"company_name\") \\\n",
    "    .withColumnRenamed(\"description\", \"company_description\") \\\n",
    "    .withColumnRenamed(\"company_size\", \"company_size\") \\\n",
    "    .withColumnRenamed(\"state\", \"company_state\") \\\n",
    "    .withColumnRenamed(\"country\", \"company_country\") \\\n",
    "    .withColumnRenamed(\"city\", \"company_city\")\n",
    "\n",
    "# Fill missing values for numeric fields\n",
    "merged_df = merged_df.fillna({\n",
    "    \"salaries_min_salary\": 0,\n",
    "    \"salaries_max_salary\": 0,\n",
    "    \"salaries_med_salary\": 0,\n",
    "    \"pay_period\": \"Unknown\",\n",
    "    \"job_industry_name\": \"Unknown\",\n",
    "    \"company_employee_count\": 0,\n",
    "    \"company_follower_count\": 0\n",
    "})\n",
    "\n",
    "# Selecting relevant columns\n",
    "required_columns = [\"salaries_med_salary\", \"location\", \"job_industry_name\", \"work_type\", \"remote_allowed\",\n",
    "                    \"company_employee_count\", \"company_follower_count\"]\n",
    "data = merged_df.select(required_columns)\n",
    "\n",
    "# Feature Engineering\n",
    "\n",
    "# Replace nulls in categorical columns with a placeholder\n",
    "data = data.fillna({\"location\": \"Unknown\", \"job_industry_name\": \"Unknown\", \"work_type\": \"Unknown\", \"remote_allowed\": \"Unknown\"})\n",
    "\n",
    "# Index categorical columns\n",
    "indexers = [\n",
    "    StringIndexer(inputCol=col, outputCol=f\"{col}_indexed\", handleInvalid=\"keep\")\n",
    "    for col in [\"location\", \"job_industry_name\", \"work_type\", \"remote_allowed\"]\n",
    "]\n",
    "for indexer in indexers:\n",
    "    data = indexer.fit(data).transform(data)\n",
    "\n"
   ]
  },
  {
   "cell_type": "code",
   "execution_count": 0,
   "metadata": {
    "application/vnd.databricks.v1+cell": {
     "cellMetadata": {
      "byteLimit": 2048000,
      "rowLimit": 10000
     },
     "inputWidgets": {},
     "nuid": "27a40050-0215-4de3-9120-f6a1687ebc2d",
     "showTitle": false,
     "tableResultSettingsMap": {},
     "title": ""
    }
   },
   "outputs": [
    {
     "output_type": "stream",
     "name": "stdout",
     "output_type": "stream",
     "text": [
      "Root Mean Squared Error (RMSE): 5109.204651292141\nR-squared (R2): 0.00657386671586857\n"
     ]
    }
   ],
   "source": [
    "\n",
    "# Assemble features\n",
    "assembler = VectorAssembler(inputCols=[\"location_indexed\", \"job_industry_name_indexed\", \"work_type_indexed\",\n",
    "                                       \"remote_allowed_indexed\", \"company_employee_count\", \"company_follower_count\"],\n",
    "                            outputCol=\"features\")\n",
    "data = assembler.transform(data)\n",
    "\n",
    "# Scale features\n",
    "scaler = StandardScaler(inputCol=\"features\", outputCol=\"scaled_features\")\n",
    "data = scaler.fit(data).transform(data)\n",
    "\n",
    "# Train-Test Split\n",
    "train_data, test_data = data.randomSplit([0.8, 0.2], seed=1234)\n",
    "\n",
    "# Build and train the regression model\n",
    "rf = RandomForestRegressor(featuresCol=\"scaled_features\", labelCol=\"salaries_med_salary\", numTrees=100, seed=1234)\n",
    "model = rf.fit(train_data)\n",
    "\n",
    "# Make predictions\n",
    "predictions = model.transform(test_data)\n",
    "\n",
    "# Evaluate the model\n",
    "evaluator = RegressionEvaluator(labelCol=\"salaries_med_salary\", predictionCol=\"prediction\", metricName=\"rmse\")\n",
    "rmse = evaluator.evaluate(predictions)\n",
    "r2 = evaluator.evaluate(predictions, {evaluator.metricName: \"r2\"})\n",
    "\n",
    "print(f\"Root Mean Squared Error (RMSE): {rmse}\")\n",
    "print(f\"R-squared (R2): {r2}\")"
   ]
  },
  {
   "cell_type": "code",
   "execution_count": 0,
   "metadata": {
    "application/vnd.databricks.v1+cell": {
     "cellMetadata": {
      "byteLimit": 2048000,
      "rowLimit": 10000
     },
     "inputWidgets": {},
     "nuid": "41b54ef9-f936-4f39-9fce-bf3c69207881",
     "showTitle": false,
     "tableResultSettingsMap": {},
     "title": ""
    }
   },
   "outputs": [],
   "source": [
    "postings_df = postings_df.dropDuplicates()\n",
    "\n",
    "# Fill missing values\n",
    "postings_df = postings_df.fillna({\n",
    "    \"min_salary\": 0,\n",
    "    \"max_salary\": 0,\n",
    "    \"med_salary\": 0,\n",
    "    \"location\": \"Unknown\",\n",
    "    \"currency\": \"USD\"\n",
    "})\n",
    "\n",
    "# Convert salary columns to integer type\n",
    "postings_df = postings_df.withColumn(\"min_salary\", col(\"min_salary\").cast(IntegerType()))\n",
    "postings_df = postings_df.withColumn(\"max_salary\", col(\"max_salary\").cast(IntegerType()))\n",
    "postings_df = postings_df.withColumn(\"med_salary\", col(\"med_salary\").cast(IntegerType()))\n",
    "\n",
    "# Standardize pay period\n",
    "postings_df = postings_df.withColumn(\"pay_period\", when(col(\"pay_period\") == \"HOURLY\", \"hourly\")\n",
    "                                     .when(col(\"pay_period\") == \"YEARLY\", \"yearly\").otherwise(col(\"pay_period\")))\n",
    "\n",
    "# Merge DataFrames\n",
    "\n",
    "# Merge postings with salaries\n",
    "salaries_df = salaries_df.withColumnRenamed(\"min_salary\", \"salaries_min_salary\") \\\n",
    "                         .withColumnRenamed(\"max_salary\", \"salaries_max_salary\") \\\n",
    "                         .withColumnRenamed(\"med_salary\", \"salaries_med_salary\") \\\n",
    "                         .withColumnRenamed(\"pay_period\", \"salaries_pay_period\")\n",
    "\n",
    "merged_df = postings_df.join(salaries_df, \"job_id\", \"left\")\n",
    "\n",
    "# Merge with employee counts\n",
    "merged_df = merged_df.join(employee_counts_df, \"company_id\", \"left\") \\\n",
    "    .withColumnRenamed(\"employee_count\", \"company_employee_count\") \\\n",
    "    .withColumnRenamed(\"follower_count\", \"company_follower_count\")\n",
    "\n",
    "# Merge with job industries and industry names\n",
    "merged_df = merged_df.join(job_industries_df, \"job_id\", \"left\")\n",
    "merged_df = merged_df.join(industries_df, \"industry_id\", \"left\") \\\n",
    "    .withColumnRenamed(\"industry_name\", \"job_industry_name\")\n",
    "\n",
    "# Merge with job skills\n",
    "skills_grouped = job_skills_df.join(skills_df, \"skill_abr\", \"left\") \\\n",
    "    .groupBy(\"job_id\").agg(collect_list(\"skill_name\").alias(\"skills\"))\n",
    "merged_df = merged_df.join(skills_grouped, \"job_id\", \"left\")\n",
    "\n",
    "# Merge with benefits\n",
    "benefits_grouped = benefits_df.groupBy(\"job_id\").agg(collect_list(\"type\").alias(\"benefits\"))\n",
    "merged_df = merged_df.join(benefits_grouped, \"job_id\", \"left\")\n",
    "\n",
    "# Merge with company data\n",
    "merged_df = merged_df.join(companies_df, \"company_id\", \"left\") \\\n",
    "    .withColumnRenamed(\"name\", \"company_name\") \\\n",
    "    .withColumnRenamed(\"description\", \"company_description\") \\\n",
    "    .withColumnRenamed(\"company_size\", \"company_size\") \\\n",
    "    .withColumnRenamed(\"state\", \"company_state\") \\\n",
    "    .withColumnRenamed(\"country\", \"company_country\") \\\n",
    "    .withColumnRenamed(\"city\", \"company_city\")\n",
    "\n",
    "# Fill missing values for numeric fields\n",
    "merged_df = merged_df.fillna({\n",
    "    \"salaries_min_salary\": 0,\n",
    "    \"salaries_max_salary\": 0,\n",
    "    \"salaries_med_salary\": 0,\n",
    "    \"pay_period\": \"Unknown\",\n",
    "    \"job_industry_name\": \"Unknown\",\n",
    "    \"company_employee_count\": 0,\n",
    "    \"company_follower_count\": 0\n",
    "})\n",
    "\n",
    "# Selecting relevant columns\n",
    "required_columns = [\"salaries_med_salary\", \"location\", \"job_industry_name\", \"work_type\", \"remote_allowed\",\n",
    "                    \"company_employee_count\", \"company_follower_count\"]\n",
    "data = merged_df.select(required_columns)\n",
    "\n",
    "# Feature Engineering\n",
    "\n",
    "# Replace nulls in categorical columns with a placeholder\n",
    "data = data.fillna({\"location\": \"Unknown\", \"job_industry_name\": \"Unknown\", \"work_type\": \"Unknown\", \"remote_allowed\": \"Unknown\"})\n",
    "\n",
    "# Index categorical columns\n",
    "indexers = [\n",
    "    StringIndexer(inputCol=col, outputCol=f\"{col}_indexed\", handleInvalid=\"keep\")\n",
    "    for col in [\"location\", \"job_industry_name\", \"work_type\", \"remote_allowed\"]\n",
    "]\n",
    "for indexer in indexers:\n",
    "    data = indexer.fit(data).transform(data)\n",
    "\n"
   ]
  },
  {
   "cell_type": "code",
   "execution_count": 0,
   "metadata": {
    "application/vnd.databricks.v1+cell": {
     "cellMetadata": {
      "byteLimit": 2048000,
      "rowLimit": 10000
     },
     "inputWidgets": {},
     "nuid": "616f85f7-1107-4e95-8c47-c76a825f0ab0",
     "showTitle": false,
     "tableResultSettingsMap": {},
     "title": ""
    }
   },
   "outputs": [
    {
     "output_type": "stream",
     "name": "stdout",
     "output_type": "stream",
     "text": [
      "Root Mean Squared Error (RMSE): 4865.354400477268\nR-squared (R2): 0.007938576475958303\n"
     ]
    }
   ],
   "source": [
    "\n",
    "# Assemble features\n",
    "assembler = VectorAssembler(inputCols=[\"location_indexed\", \"job_industry_name_indexed\", \"work_type_indexed\",\n",
    "                                       \"remote_allowed_indexed\", \"company_employee_count\", \"company_follower_count\"],\n",
    "                            outputCol=\"features\")\n",
    "data = assembler.transform(data)\n",
    "\n",
    "# Scale features\n",
    "scaler = StandardScaler(inputCol=\"features\", outputCol=\"scaled_features\")\n",
    "data = scaler.fit(data).transform(data)\n",
    "\n",
    "sample_fraction = 0.15  # Set between 0.1 (10%) and 0.2 (20%)\n",
    "sampled_data = data.sample(withReplacement=False, fraction=sample_fraction, seed=1234)\n",
    "\n",
    "# Train-Test Split\n",
    "train_data, test_data = sampled_data.randomSplit([0.8, 0.2], seed=1234)\n",
    "\n",
    "# Build and train the regression model\n",
    "rf = RandomForestRegressor(featuresCol=\"scaled_features\", labelCol=\"salaries_med_salary\", numTrees=100, seed=1234)\n",
    "model = rf.fit(train_data)\n",
    "\n",
    "# Make predictions\n",
    "predictions = model.transform(test_data)\n",
    "\n",
    "# Evaluate the model\n",
    "evaluator = RegressionEvaluator(labelCol=\"salaries_med_salary\", predictionCol=\"prediction\", metricName=\"rmse\")\n",
    "rmse = evaluator.evaluate(predictions)\n",
    "r2 = evaluator.evaluate(predictions, {evaluator.metricName: \"r2\"})\n",
    "\n",
    "print(f\"Root Mean Squared Error (RMSE): {rmse}\")\n",
    "print(f\"R-squared (R2): {r2}\")"
   ]
  },
  {
   "cell_type": "markdown",
   "metadata": {
    "application/vnd.databricks.v1+cell": {
     "cellMetadata": {
      "byteLimit": 2048000,
      "rowLimit": 10000
     },
     "inputWidgets": {},
     "nuid": "88884d14-ce3c-45c2-8eed-474fcd907a5b",
     "showTitle": false,
     "tableResultSettingsMap": {},
     "title": ""
    }
   },
   "source": [
    "### Use of streaming algorithms:\n",
    "### Use of Reservoir Sampling, Bloom Filter, Flajolet-Martin, DGIM, Computing Moments, algorithms for graph streams, etc"
   ]
  },
  {
   "cell_type": "code",
   "execution_count": 0,
   "metadata": {
    "application/vnd.databricks.v1+cell": {
     "cellMetadata": {
      "byteLimit": 2048000,
      "rowLimit": 10000
     },
     "inputWidgets": {},
     "nuid": "cdede559-7af1-44d2-a2ff-e0a8549a492d",
     "showTitle": false,
     "tableResultSettingsMap": {},
     "title": ""
    }
   },
   "outputs": [
    {
     "output_type": "display_data",
     "data": {
      "text/html": [
       "<style scoped>\n",
       "  .ansiout {\n",
       "    display: block;\n",
       "    unicode-bidi: embed;\n",
       "    white-space: pre-wrap;\n",
       "    word-wrap: break-word;\n",
       "    word-break: break-all;\n",
       "    font-family: \"Menlo\", \"Monaco\", \"Consolas\", \"Ubuntu Mono\", \"Source Code Pro\", monospace;\n",
       "    font-size: 13px;\n",
       "    color: #555;\n",
       "    margin-left: 4px;\n",
       "    line-height: 19px;\n",
       "  }\n",
       "</style>"
      ]
     },
     "metadata": {
      "application/vnd.databricks.v1+output": {
       "arguments": {},
       "data": "",
       "errorSummary": "Command skipped",
       "errorTraceType": "html",
       "metadata": {},
       "type": "ipynbError"
      }
     },
     "output_type": "display_data"
    }
   ],
   "source": [
    "import random\n",
    "from pyspark.sql import Row\n",
    "\n",
    "def reservoir_sampling_rdd(df, k):\n",
    "    \"\"\"\n",
    "    Implements Reservoir Sampling to sample 'k' rows from a PySpark DataFrame using RDDs.\n",
    "    \n",
    "    :param df: PySpark DataFrame to sample from\n",
    "    :param k: Number of samples to select\n",
    "    :return: DataFrame with 'k' randomly selected rows\n",
    "    \"\"\"\n",
    "    # Convert the DataFrame to an RDD\n",
    "    rdd = df.rdd\n",
    "    \n",
    "    def process_partition(iterator):\n",
    "        # Local reservoir for this partition\n",
    "        local_reservoir = []\n",
    "        \n",
    "        for i, row in enumerate(iterator):\n",
    "            # Initialize the reservoir with the first k elements\n",
    "            if len(local_reservoir) < k:\n",
    "                local_reservoir.append(row)\n",
    "            else:\n",
    "                # Replace a random element in the reservoir with a decreasing probability\n",
    "                j = random.randint(0, i)\n",
    "                if j < k:\n",
    "                    local_reservoir[j] = row\n",
    "        return local_reservoir\n",
    "\n",
    "    # Collect samples from all partitions\n",
    "    sampled_rdd = rdd.mapPartitions(process_partition)\n",
    "    \n",
    "    # Flatten and collect the sampled RDD to the driver\n",
    "    sampled_rows = sampled_rdd.collect()\n",
    "    \n",
    "    # Perform global reservoir sampling to combine all local samples\n",
    "    global_reservoir = []\n",
    "    for i, row in enumerate(sampled_rows):\n",
    "        if len(global_reservoir) < k:\n",
    "            global_reservoir.append(row)\n",
    "        else:\n",
    "            j = random.randint(0, i)\n",
    "            if j < k:\n",
    "                global_reservoir[j] = row\n",
    "    \n",
    "    # Convert the global reservoir back to a DataFrame\n",
    "    sampled_df = spark.createDataFrame(global_reservoir, schema=df.schema)\n",
    "    \n",
    "    return sampled_df\n",
    "\n",
    "# Define the sample size\n",
    "k = 5  # Select 5 random rows\n",
    "\n",
    "# Apply the reservoir sampling function to the DataFrame\n",
    "sampled_df = reservoir_sampling_rdd(merged_df, k)\n",
    "\n",
    "# Show the sampled DataFrame\n",
    "sampled_df.show()\n",
    "\n"
   ]
  },
  {
   "cell_type": "markdown",
   "metadata": {
    "application/vnd.databricks.v1+cell": {
     "cellMetadata": {
      "byteLimit": 2048000,
      "rowLimit": 10000
     },
     "inputWidgets": {},
     "nuid": "6abe6a5e-3ffd-4524-baa9-318810e08a43",
     "showTitle": false,
     "tableResultSettingsMap": {},
     "title": ""
    }
   },
   "source": [
    "### Use of Locality Sensitive Hashing "
   ]
  },
  {
   "cell_type": "code",
   "execution_count": 0,
   "metadata": {
    "application/vnd.databricks.v1+cell": {
     "cellMetadata": {
      "byteLimit": 2048000,
      "rowLimit": 10000
     },
     "inputWidgets": {},
     "nuid": "a242ca18-5a98-4773-939a-806fbf5fa681",
     "showTitle": false,
     "tableResultSettingsMap": {},
     "title": ""
    }
   },
   "outputs": [],
   "source": [
    "from pyspark.ml.linalg import VectorUDT"
   ]
  },
  {
   "cell_type": "code",
   "execution_count": 0,
   "metadata": {
    "application/vnd.databricks.v1+cell": {
     "cellMetadata": {
      "byteLimit": 2048000,
      "rowLimit": 10000
     },
     "inputWidgets": {},
     "nuid": "268bc1c2-0170-4ee6-832a-c757cb6f03be",
     "showTitle": false,
     "tableResultSettingsMap": {},
     "title": ""
    }
   },
   "outputs": [
    {
     "output_type": "stream",
     "name": "stdout",
     "output_type": "stream",
     "text": [
      "+----------+--------------------+-------+\n|    job_id|              skills|distCol|\n+----------+--------------------+-------+\n|3887700917|[Design, Art/Crea...|    0.0|\n|3884431593|[Design, Art/Crea...|    0.0|\n|3894273088|[Art/Creative, De...|    0.0|\n|3884991630|[Art/Creative, De...|    0.0|\n|3887707035|[Design, Art/Crea...|    0.0|\n+----------+--------------------+-------+\n\n"
     ]
    }
   ],
   "source": [
    "from pyspark.ml.feature import MinHashLSH\n",
    "from pyspark.ml.linalg import Vectors, VectorUDT\n",
    "from pyspark.sql.functions import col, udf\n",
    "\n",
    "# Create a vocabulary for skills (e.g., assigning an index to each skill)\n",
    "all_skills = skills_df.select(\"skill_name\").rdd.flatMap(lambda x: x).distinct().collect()\n",
    "skill_to_index = {skill: idx for idx, skill in enumerate(all_skills)}\n",
    "\n",
    "# UDF to convert skills to sparse vectors\n",
    "def skills_to_sparse_vector(skills):\n",
    "    if skills is None or len(skills) == 0:\n",
    "        return Vectors.sparse(len(skill_to_index), [])\n",
    "    indices = sorted([skill_to_index[skill] for skill in skills if skill in skill_to_index])\n",
    "    values = [1.0] * len(indices)\n",
    "    return Vectors.sparse(len(skill_to_index), indices, values)\n",
    "\n",
    "# Register UDF to return Vector objects\n",
    "skills_to_sparse_udf = udf(skills_to_sparse_vector, returnType=VectorUDT())\n",
    "\n",
    "# Apply UDF to create a \"skills_vector\" column\n",
    "skills_grouped = skills_grouped.withColumn(\"skills_vector\", skills_to_sparse_udf(col(\"skills\")))\n",
    "\n",
    "# Apply MinHashLSH\n",
    "mh = MinHashLSH(inputCol=\"skills_vector\", outputCol=\"hashes\", numHashTables=3)\n",
    "model = mh.fit(skills_grouped)\n",
    "\n",
    "# Transform the dataset to include hashes\n",
    "hashed_df = model.transform(skills_grouped)\n",
    "\n",
    "# Find similar jobs based on skills\n",
    "query_skills = Vectors.sparse(len(skill_to_index), {0: 1.0, 1: 1.0})  # Example query vector\n",
    "similar_jobs = model.approxNearestNeighbors(hashed_df, query_skills, numNearestNeighbors=5)\n",
    "\n",
    "# Show similar jobs\n",
    "similar_jobs.select(\"job_id\", \"skills\", \"distCol\").show()\n"
   ]
  },
  {
   "cell_type": "markdown",
   "metadata": {
    "application/vnd.databricks.v1+cell": {
     "cellMetadata": {
      "byteLimit": 2048000,
      "rowLimit": 10000
     },
     "inputWidgets": {},
     "nuid": "dc0fa873-54d9-42e3-86a3-84f51372f8db",
     "showTitle": false,
     "tableResultSettingsMap": {},
     "title": ""
    }
   },
   "source": [
    "**Advantages of LSH in Workflow**\n",
    "**Scalability**:  \n",
    "Efficiently handles large datasets by organizing similar items into the same hash buckets.\n",
    "\n",
    "**Approximate Nearest Neighbors**:  \n",
    "Enables rapid identification of similar job descriptions, skill sets, or industries without having to compare each pair individually.\n",
    "\n",
    "**Customizability**:  \n",
    "Works with any column that can be vectorized, providing flexibility for diverse applications."
   ]
  },
  {
   "cell_type": "markdown",
   "metadata": {
    "application/vnd.databricks.v1+cell": {
     "cellMetadata": {
      "byteLimit": 2048000,
      "rowLimit": 10000
     },
     "inputWidgets": {},
     "nuid": "edc64a6b-5b10-48b9-af56-590bfe5496bd",
     "showTitle": false,
     "tableResultSettingsMap": {},
     "title": ""
    }
   },
   "source": [
    "###  Use of Privacy techniques K-Anonymity, L-Diversity, Differential Privacy, etc."
   ]
  },
  {
   "cell_type": "markdown",
   "metadata": {
    "application/vnd.databricks.v1+cell": {
     "cellMetadata": {
      "byteLimit": 2048000,
      "rowLimit": 10000
     },
     "inputWidgets": {},
     "nuid": "66448e68-e0a4-483e-aac2-2f13db9a86ff",
     "showTitle": false,
     "tableResultSettingsMap": {},
     "title": ""
    }
   },
   "source": [
    "### 1. K-Anonymity\n",
    "The goal is to prevent any individual in the dataset from being uniquely identified by ensuring that at least *k* individuals have the same combination of quasi-identifiers.\n",
    "\n",
    "For example, this can be done using PySpark to anonymize data such as location and job industry name."
   ]
  },
  {
   "cell_type": "code",
   "execution_count": 0,
   "metadata": {
    "application/vnd.databricks.v1+cell": {
     "cellMetadata": {
      "byteLimit": 2048000,
      "rowLimit": 10000
     },
     "inputWidgets": {},
     "nuid": "fe41f2fb-1ead-4072-a286-f81443a81be9",
     "showTitle": false,
     "tableResultSettingsMap": {},
     "title": ""
    }
   },
   "outputs": [
    {
     "output_type": "stream",
     "name": "stdout",
     "output_type": "stream",
     "text": [
      "+--------------------+-------------------+-----+\n|            location|  job_industry_name|count|\n+--------------------+-------------------+-----+\n|             Unknown|Veterinary Services|  382|\n|                17.5|            Unknown|   25|\n| genetic information|            Unknown|   71|\n|        organization|            Unknown|   30|\n|             packing|            Unknown|   11|\n|              skills|            Unknown|  169|\n|          Scheduling|            Unknown|    5|\n|             Unknown|Writing and Editing|   31|\n|        Chandler, AZ|            Unknown|   39|\n|               reach|            Unknown|   36|\n|           protocols|            Unknown|   10|\n|        self-starter|            Unknown|   13|\n|                 SAS|            Unknown|   10|\n| or veteran statu...|            Unknown|    5|\n|     Carson City, NV|            Unknown|   11|\n| and large integr...|            Unknown|   26|\n|                57.0|            Unknown|   15|\n|           Economics|            Unknown|   17|\n| relevant experie...|            Unknown|    6|\n| using whole numbers|            Unknown|   17|\n+--------------------+-------------------+-----+\nonly showing top 20 rows\n\n"
     ]
    }
   ],
   "source": [
    "from pyspark.sql.functions import col, count\n",
    "\n",
    "# Group by quasi-identifiers to measure anonymity\n",
    "k_anonymous_df = data.groupBy(\"location\", \"job_industry_name\").agg(count(\"*\").alias(\"count\"))\n",
    "\n",
    "# Filter groups that do not meet the k-anonymity threshold\n",
    "k = 5\n",
    "anonymized_df = k_anonymous_df.filter(col(\"count\") >= k)\n",
    "\n",
    "anonymized_df.show()\n"
   ]
  },
  {
   "cell_type": "markdown",
   "metadata": {
    "application/vnd.databricks.v1+cell": {
     "cellMetadata": {
      "byteLimit": 2048000,
      "rowLimit": 10000
     },
     "inputWidgets": {},
     "nuid": "4fa8e7bc-6545-4751-9f19-a4623ff8bd96",
     "showTitle": false,
     "tableResultSettingsMap": {},
     "title": ""
    }
   },
   "source": [
    "This guarantees that no combination of location and job industry can be linked to fewer than *k* individuals."
   ]
  },
  {
   "cell_type": "markdown",
   "metadata": {
    "application/vnd.databricks.v1+cell": {
     "cellMetadata": {
      "byteLimit": 2048000,
      "rowLimit": 10000
     },
     "inputWidgets": {},
     "nuid": "3e075cd3-fa5b-42e8-8252-22fff025bd53",
     "showTitle": false,
     "tableResultSettingsMap": {},
     "title": ""
    }
   },
   "source": [
    "### 2. L-Diversity\n",
    "To extend K-Anonymity, it is essential to ensure that not only are at least *k* individuals grouped together based on their quasi-identifiers, but also that sensitive attributes (such as *salaries_med_salary*) exhibit diversity within each equivalence class. This helps prevent sensitive information from being revealed."
   ]
  },
  {
   "cell_type": "code",
   "execution_count": 0,
   "metadata": {
    "application/vnd.databricks.v1+cell": {
     "cellMetadata": {
      "byteLimit": 2048000,
      "rowLimit": 10000
     },
     "inputWidgets": {},
     "nuid": "804ecb3f-9455-4a1d-a079-3c99d04b02fc",
     "showTitle": false,
     "tableResultSettingsMap": {},
     "title": ""
    }
   },
   "outputs": [
    {
     "output_type": "stream",
     "name": "stdout",
     "output_type": "stream",
     "text": [
      "+-------------+--------------------+---------+\n|     location|   job_industry_name|diversity|\n+-------------+--------------------+---------+\n|      Unknown| Veterinary Services|       15|\n|      Unknown|Paper and Forest ...|       20|\n|      Unknown|Computers and Ele...|        6|\n|      Unknown|       Public Safety|        8|\n|      Unknown|   Research Services|       20|\n|      Unknown|IT System Data Se...|        6|\n|      Unknown|Technology, Infor...|       41|\n|Rochester, NY|Staffing and Recr...|        3|\n|      Unknown|IT Services and I...|      115|\n|      Unknown|     Design Services|        7|\n|      Unknown| Rail Transportation|        3|\n|      Unknown|Building Construc...|        8|\n|      Unknown|Semiconductor Man...|        6|\n|      Unknown|Software Development|       70|\n|Baltimore, MD|Staffing and Recr...|        5|\n|      Unknown|Telephone Call Ce...|        4|\n|Kalispell, MT|Staffing and Recr...|        3|\n|      Unknown|       Manufacturing|      139|\n|      Unknown|   Medical Practices|       30|\n|      Unknown| Facilities Services|       44|\n+-------------+--------------------+---------+\nonly showing top 20 rows\n\n"
     ]
    }
   ],
   "source": [
    "from pyspark.sql.functions import approx_count_distinct\n",
    "\n",
    "# Measure diversity in sensitive attribute\n",
    "l_diverse_df = data.groupBy(\"location\", \"job_industry_name\").agg(\n",
    "    approx_count_distinct(\"salaries_med_salary\").alias(\"diversity\")\n",
    ")\n",
    "\n",
    "# Filter groups with sufficient diversity\n",
    "l = 3\n",
    "l_diverse_filtered = l_diverse_df.filter(col(\"diversity\") >= l)\n",
    "\n",
    "l_diverse_filtered.show()\n"
   ]
  },
  {
   "cell_type": "markdown",
   "metadata": {
    "application/vnd.databricks.v1+cell": {
     "cellMetadata": {
      "byteLimit": 2048000,
      "rowLimit": 10000
     },
     "inputWidgets": {},
     "nuid": "d70d7b77-e288-4a3e-8493-95ce4a4a916b",
     "showTitle": false,
     "tableResultSettingsMap": {},
     "title": ""
    }
   },
   "source": [
    "Ensures that for each location and job industry, there are at least *l* different salary values for *salaries_med_salary*."
   ]
  },
  {
   "cell_type": "markdown",
   "metadata": {
    "application/vnd.databricks.v1+cell": {
     "cellMetadata": {
      "byteLimit": 2048000,
      "rowLimit": 10000
     },
     "inputWidgets": {},
     "nuid": "4b874d92-fdb5-42a4-94f3-93e9cfee36c9",
     "showTitle": false,
     "tableResultSettingsMap": {},
     "title": ""
    }
   },
   "source": [
    "### 3. Differential Privacy\n",
    "The objective is to add noise to the dataset to safeguard individual identities while still preserving overall trends and aggregate insights.\n",
    "\n",
    "For instance, Laplace noise can be used to perturb salary averages, ensuring that the data remains anonymous while still providing useful statistical information."
   ]
  },
  {
   "cell_type": "code",
   "execution_count": 0,
   "metadata": {
    "application/vnd.databricks.v1+cell": {
     "cellMetadata": {
      "byteLimit": 2048000,
      "rowLimit": 10000
     },
     "inputWidgets": {},
     "nuid": "c2e3f182-a2a2-4586-89da-4ad9eb6d0e4f",
     "showTitle": false,
     "tableResultSettingsMap": {},
     "title": ""
    }
   },
   "outputs": [
    {
     "output_type": "stream",
     "name": "stdout",
     "output_type": "stream",
     "text": [
      "True Mean Salary: 195.91248635237923\nNoisy Mean Salary: 197.15668383163785\n"
     ]
    }
   ],
   "source": [
    "import numpy as np\n",
    "from pyspark.sql.functions import mean\n",
    "\n",
    "# Calculate the mean salary and add Laplace noise\n",
    "epsilon = 1.0  # Privacy budget\n",
    "salary_mean = data.agg(mean(\"salaries_med_salary\").alias(\"mean_salary\")).collect()[0][\"mean_salary\"]\n",
    "noisy_mean_salary = salary_mean + np.random.laplace(scale=1/epsilon)\n",
    "\n",
    "print(f\"True Mean Salary: {salary_mean}\")\n",
    "print(f\"Noisy Mean Salary: {noisy_mean_salary}\")\n"
   ]
  },
  {
   "cell_type": "markdown",
   "metadata": {
    "application/vnd.databricks.v1+cell": {
     "cellMetadata": {
      "byteLimit": 2048000,
      "rowLimit": 10000
     },
     "inputWidgets": {},
     "nuid": "505b9df7-2060-468f-9799-29de014ae4cd",
     "showTitle": false,
     "tableResultSettingsMap": {},
     "title": ""
    }
   },
   "source": [
    "Noise is introduced according to the epsilon parameter, striking a balance between preserving privacy and maintaining accuracy."
   ]
  },
  {
   "cell_type": "markdown",
   "metadata": {
    "application/vnd.databricks.v1+cell": {
     "cellMetadata": {
      "byteLimit": 2048000,
      "rowLimit": 10000
     },
     "inputWidgets": {},
     "nuid": "82cddee3-2218-49f4-ba3a-24198d7a942d",
     "showTitle": false,
     "tableResultSettingsMap": {},
     "title": ""
    }
   },
   "source": [
    "### Any other tools and techniques covered in the course not included in the other criteria. Think Machine Unlearning, Explainable AI (if covered in the class); Fairness; Federated Learning; Data Poisoning, Responsible AI, etc"
   ]
  },
  {
   "cell_type": "markdown",
   "metadata": {
    "application/vnd.databricks.v1+cell": {
     "cellMetadata": {
      "byteLimit": 2048000,
      "rowLimit": 10000
     },
     "inputWidgets": {},
     "nuid": "7bb46960-ff97-43d7-805b-26150b133c03",
     "showTitle": false,
     "tableResultSettingsMap": {},
     "title": ""
    }
   },
   "source": [
    "### 1. Fairness\n",
    "Assess and ensure fairness in predictions, such as making sure that salary predictions do not disproportionately favor certain locations. This can be done by applying Disparate Impact Analysis to evaluate fairness."
   ]
  },
  {
   "cell_type": "code",
   "execution_count": 0,
   "metadata": {
    "application/vnd.databricks.v1+cell": {
     "cellMetadata": {
      "byteLimit": 2048000,
      "rowLimit": 10000
     },
     "inputWidgets": {},
     "nuid": "513313b5-2312-4b84-bba7-ef2e7b56dbca",
     "showTitle": false,
     "tableResultSettingsMap": {},
     "title": ""
    }
   },
   "outputs": [
    {
     "output_type": "stream",
     "name": "stdout",
     "output_type": "stream",
     "text": [
      "+--------------------+--------------------+\n|            location|      avg_prediction|\n+--------------------+--------------------+\n| including automa...| 0.46108336867119604|\n|            Novi, MI|   58.93468585902827|\n|            holidays| 0.46299386141183346|\n|          Iselin, NJ|   58.93468585902827|\n|        Florence, KY|    75.1005255322421|\n| high-net-worth i...| 0.11362556396975641|\n| substantive know...| 0.46527382916873733|\n| and data analysi...| 0.46108336867119604|\n| avoiding duplica...| 0.11362556396975641|\n|        La Habra, CA|   41.91965478841933|\n| advocacy and sup...|0.048362891710900205|\n|          procedures|  0.4622515535986099|\n| providing a soli...| 0.46108336867119604|\n|               Excel|  0.1810947431376834|\n|          and height| 0.46455990810081765|\n|            benefits| 0.46299386141183346|\n|   treatment options| 0.46455990810081765|\n| Has the ability ...| 0.46108336867119604|\n|      and Excellence| 0.46108336867119604|\n|            religion|    5.17278460572317|\n+--------------------+--------------------+\nonly showing top 20 rows\n\nOne or both of the specified locations do not exist in the dataset.\n"
     ]
    }
   ],
   "source": [
    "from pyspark.sql.functions import mean, col\n",
    "\n",
    "# Calculate mean salary predictions by location\n",
    "fairness_df = predictions.groupBy(\"location\").agg(mean(\"prediction\").alias(\"avg_prediction\"))\n",
    "fairness_df.show()\n",
    "\n",
    "# Define privileged and unprivileged locations\n",
    "privileged_location = \"CityA\"\n",
    "unprivileged_location = \"CityB\"\n",
    "\n",
    "# Filter the average predictions for privileged and unprivileged locations\n",
    "privileged_row = fairness_df.filter(col(\"location\") == privileged_location).select(\"avg_prediction\").first()\n",
    "unprivileged_row = fairness_df.filter(col(\"location\") == unprivileged_location).select(\"avg_prediction\").first()\n",
    "\n",
    "# Check if rows are not None\n",
    "if privileged_row is not None and unprivileged_row is not None:\n",
    "    privileged_avg = privileged_row[0]\n",
    "    unprivileged_avg = unprivileged_row[0]\n",
    "\n",
    "    # Calculate disparate impact\n",
    "    disparate_impact = unprivileged_avg / privileged_avg\n",
    "    print(f\"Disparate Impact: {disparate_impact}\")\n",
    "else:\n",
    "    print(\"One or both of the specified locations do not exist in the dataset.\")\n"
   ]
  },
  {
   "cell_type": "markdown",
   "metadata": {
    "application/vnd.databricks.v1+cell": {
     "cellMetadata": {
      "byteLimit": 2048000,
      "rowLimit": 10000
     },
     "inputWidgets": {},
     "nuid": "88478d68-e59d-4b2e-8172-3ca6f19ee558",
     "showTitle": false,
     "tableResultSettingsMap": {},
     "title": ""
    }
   },
   "source": [
    "Ensure that salary predictions are fair and not biased toward or against particular locations or industries."
   ]
  }
 ],
 "metadata": {
  "application/vnd.databricks.v1+notebook": {
   "dashboards": [],
   "environmentMetadata": null,
   "language": "python",
   "notebookMetadata": {
    "pythonIndentUnit": 2
   },
   "notebookName": "Project_",
   "widgets": {}
  }
 },
 "nbformat": 4,
 "nbformat_minor": 0
}
